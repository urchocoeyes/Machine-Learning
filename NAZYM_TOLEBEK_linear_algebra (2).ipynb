{
  "cells": [
    {
      "cell_type": "markdown",
      "source": [
        "# HW1\n",
        "\n",
        "## Task 1.1 (0.5 points)\n",
        "\n",
        "Show that cosine distance between two vectors is always between $0$ and $2$. \n",
        "\n",
        "### My solution:\n",
        "The cosine distance between two vectors $\\mathbf{a}$ and $\\mathbf{b}$ is defined as: <br><br>\n",
        "        $\\text{Cosine Distance}(\\mathbf{a}, \\mathbf{b}) = 1 - \\cos(\\theta)$\n",
        "\n",
        "where $\\theta$ is the angle between vectors $\\mathbf{a}$ and $\\mathbf{b}$, and $\\cos(\\theta)$ is the cosine of angle $\\theta$.\n",
        "\n",
        "Since $\\cos(\\theta)$ is always in the range $[-1, 1]$, it implies that:\n",
        "$ 0 \\leq \\text{Cosine Distance}(\\mathbf{a}, \\mathbf{b}) \\leq 2 $\n"
      ],
      "metadata": {},
      "id": "bf0d66b6"
    },
    {
      "cell_type": "markdown",
      "source": [
        "## Task 1.2 (1 point)\n",
        "\n",
        "Let $\\boldsymbol A \\in\\mathbb R^{m\\times n}$, $\\boldsymbol B \\in\\mathbb R^{n\\times m}$. Prove that $\\mathrm{tr}(\\boldsymbol{AB}) = \\mathrm{tr}(\\boldsymbol{BA})$. Using this property, calculate $\\mathrm{tr}(\\boldsymbol{uv}^\\mathsf{T})$ if $\\boldsymbol u, \\boldsymbol v \\in\\mathbb R^n$, $\\boldsymbol u \\perp \\boldsymbol v$.\n",
        "\n",
        "### MY SOLUTION:\n",
        "Proof: $\\mathrm{tr}(\\mathbf{AB}) = \\mathrm{tr}(\\mathbf{BA})$\n",
        "\n",
        "Let $\\mathbf{A} \\in \\mathbb{R}^{m \\times n}$, $\\mathbf{B} \\in \\mathbb{R}^{n \\times m}$. Aim to prove that $\\mathrm{tr}(\\mathbf{AB}) = \\mathrm{tr}(\\mathbf{BA})$.\n",
        "\n",
        "The trace of a $square$ matrix is the sum of its diagonal elements. Let $\\mathbf{C} = \\mathbf{AB}$ and $\\mathbf{D} = \\mathbf{BA}$. The $i$-th diagonal element of $\\mathbf{C}$ is given by $\\mathbf{C}_{ii} = \\sum_{k=1}^n \\mathbf{A}_{ik}\\mathbf{B}_{ki}$, and the $i$-th diagonal element of $\\mathbf{D}$ is given by $\\mathbf{D}_{ii} = \\sum_{k=1}^m \\mathbf{B}_{ik}\\mathbf{A}_{ki}$.\n",
        "\n",
        "Trace of $\\mathbf{C}$:\n",
        "\\begin{align*}\n",
        "\\mathrm{tr}(\\mathbf{C}) &= \\sum_{i=1}^m\\mathbf{C}_{ii} \\\\\n",
        "&= \\sum_{i=1}^m \\sum_{k=1}^n \\mathbf{A}_{ik}\\mathbf{B}_{ki}.\n",
        "\\end{align*}\n",
        "\n",
        "Similarly, the trace of $\\mathbf{D}$:\n",
        "\\begin{align*}\n",
        "\\mathrm{tr}(\\mathbf{D}) &= \\sum_{i=1}^n \\mathbf{D}_{ii} \\\\\n",
        "&= \\sum_{i=1}^n \\sum_{k=1}^m \\mathbf{B}_{ik}\\mathbf{A}_{ki}.\n",
        "\\end{align*}\n",
        "\n",
        "Interchange the order of summation: We can do it, since the trace for a non-square matrix does not exist, it implies that two matrices are square matrices and have the same dimensions:\n",
        "\\begin{align*}\n",
        "\\mathrm{tr}(\\mathbf{D}) &= \\sum_{k=1}^m \\sum_{i=1}^n \\mathbf{B}_{ik}\\mathbf{A}_{ki} \\\\\n",
        "&= \\sum_{k=1}^m \\sum_{i=1}^n \\mathbf{A}_{ki}\\mathbf{B}_{ik} \\\\\n",
        "&= \\sum_{i=1}^m \\sum_{k=1}^n \\mathbf{A}_{ik}\\mathbf{B}_{ki} \\\\\n",
        "&= \\mathrm{tr}(\\mathbf{C}).\n",
        "\\end{align*}\n",
        "\n",
        "Thus, $\\mathrm{tr}(\\mathbf{AB}) = \\mathrm{tr}(\\mathbf{BA})$.\n",
        "\n",
        "Calculation: $\\mathrm{tr}(\\mathbf{uv}^\\mathsf{T})$\n",
        "\n",
        "Given that $\\mathbf{u}$ and $\\mathbf{v}$ are orthogonal.\n",
        "\n",
        "Let $\\mathbf{u} \\in \\mathbb{R}^n$ and $\\mathbf{v} \\in \\mathbb{R}^n$, where $\\mathbf{u} \\perp \\mathbf{v}$. The outer product $\\mathbf{uv}^\\mathsf{T}$ is an $n \\times n$ $square$ matrix. Using the property shown:\n",
        "\\begin{align*}\n",
        "\\mathrm{tr}(\\mathbf{uv}^\\mathsf{T}) &= \\mathrm{tr}(\\mathbf{vu}^\\mathsf{T}) \\quad \\text{(by the property)} \\\\\n",
        "&= \\sum_{i=1}^n (\\mathbf{vu}^\\mathsf{T})_{ii} \\quad \\text{(definition of trace)} \\\\\n",
        "&= \\sum_{i=1}^n \\sum_{k=1}^n (\\mathbf{v})_i (\\mathbf{u}^\\mathsf{T})_k \\delta_{ik} \\quad \\text{(expression for the diagonal element with Kronecker delta)} \\\\\n",
        "&= \\sum_{i=1}^n (\\mathbf{v})_i (\\mathbf{u}^\\mathsf{T})_i \\quad \\text{(since }\\delta_{ik} = 1 \\text{ when } i = k,  \\text{ and } 0 \\text{ otherwise)} \\\\\n",
        "&= \\sum_{i=1}^n (\\mathbf{v})_i (\\mathbf{u})_i \\quad \\text{(expressing by vector, since this is dot product, transpose of }\\mathbf{u}\\text{)} \\\\\n",
        "&= \\mathbf{u}^\\mathsf{T}\\mathbf{v}.\n",
        "\\end{align*}\n",
        "\n",
        "Therefore, $\\mathrm{tr}(\\mathbf{uv}^\\mathsf{T}) = \\mathbf{u}^\\mathsf{T}\\mathbf{v}$, and since $\\mathbf{u} \\perp \\mathbf{v}$,  $\\langle \\mathbf{u}, \\mathbf{v} \\rangle$ = 0, since main diagonal contains values within dot product, those values will be 0. We have $\\mathrm{tr}(\\mathbf{uv}^\\mathsf{T}) = 0$.\n"
      ],
      "metadata": {},
      "id": "cebd2b22"
    },
    {
      "cell_type": "markdown",
      "source": [
        "## Task 1.3 (0.5 points)\n",
        "\n",
        "A **permutation matrix** $\\boldsymbol P$ is obtained from the identity matrix $\\boldsymbol I$ by some permutation of rows (or columns). Show that $\\boldsymbol P^{-1} = \\boldsymbol P^\\mathsf{T}$.\n",
        "\n",
        "### MY SOLUTION\n",
        "To prove that the inverse of a permutation matrix $\\boldsymbol{P}$ is its transpose $\\boldsymbol{P}^\\mathsf{T}$, we need to show that $\\boldsymbol{P} \\cdot \\boldsymbol{P}^\\mathsf{T} = \\boldsymbol{I}$ and $\\boldsymbol{P}^\\mathsf{T} \\cdot \\boldsymbol{P} = \\boldsymbol{I}$, since, $\\boldsymbol{P}^\\mathsf{-1} \\cdot \\boldsymbol{P} = I$. I just mutiplied both sides of equation by $P$.\n",
        "\n",
        "Consider the product $\\boldsymbol{P} \\cdot \\boldsymbol{P}^\\mathsf{T}$:\n",
        "\n",
        "$\n",
        "(\\boldsymbol{P} \\cdot \\boldsymbol{P}^\\mathsf{T})_{ij} = \\sum_{k=1}^n \\boldsymbol{P}_{ik} (\\boldsymbol{P}^\\mathsf{T})_{kj}\n",
        "$\n",
        "\n",
        "Since $\\boldsymbol{P}^\\mathsf{T}$ is the transpose of $\\boldsymbol{P}$, $(\\boldsymbol{P}^\\mathsf{T})_{kj} = \\boldsymbol{P}_{jk}$. Therefore,\n",
        "\n",
        "$\n",
        "(\\boldsymbol{P} \\cdot \\boldsymbol{P}^\\mathsf{T})_{ij} = \\sum_{k=1}^n \\boldsymbol{P}_{ik} \\boldsymbol{P}_{jk}\n",
        "$\n",
        "\n",
        "In a permutation matrix, each row and each column has exactly one entry equal to 1, and all others are 0. Therefore, the sum above is 1 only when $i = j$ (for the diagonal elements) and 0 otherwise. Thus,\n",
        "\n",
        "$\n",
        "(\\boldsymbol{P} \\cdot \\boldsymbol{P}^\\mathsf{T})_{ij} = \\delta_{ij}\n",
        "$\n",
        "\n",
        "where $\\delta_{ij}$ is the Kronecker delta, which is 1 if $i = j$ and 0 otherwise. This implies thhat $\\boldsymbol{P} \\cdot \\boldsymbol{P}^\\mathsf{T} = \\boldsymbol{I}$.\n",
        "\n",
        "Similarly, for $\\boldsymbol{P}^\\mathsf{T} \\cdot \\boldsymbol{P} = \\boldsymbol{I}$.\n",
        "\n",
        "Therefore, $\\boldsymbol{P}^{-1} = \\boldsymbol{P}^\\mathsf{T}$ for a permutation matrix $\\boldsymbol{P}$."
      ],
      "metadata": {},
      "id": "e2b0a12c"
    },
    {
      "cell_type": "markdown",
      "source": [
        "## Task 1.4 (1 point)\n",
        "\n",
        "Let $\\boldsymbol A \\in \\mathbb R^{m\\times n}$. Prove that $N(\\boldsymbol A) = N(\\boldsymbol A^{\\mathsf T}\\boldsymbol A)$.\n",
        "\n",
        "### MY SOLUTION\n",
        "\n",
        "To prove that $N(\\boldsymbol{A}) = N(\\boldsymbol{A}^\\mathsf{T}\\boldsymbol{A})$, we need to show that the nullspace of $\\boldsymbol{A}$ is the same as the nullspace of $\\boldsymbol{A}^\\mathsf{T}\\boldsymbol{A}$.\n",
        "\n",
        "Let $\\boldsymbol{x} \\in N(\\boldsymbol{A})$. This means that $\\boldsymbol{Ax} = \\boldsymbol{0}$. Consider multiplying both sides by $\\boldsymbol{A}^\\mathsf{T}$. <br>\n",
        "\\begin{align*}\n",
        "\\boldsymbol{A}^\\mathsf{T}\\boldsymbol{A}\\boldsymbol{x} &= \\boldsymbol{A}^\\mathsf{T}\\boldsymbol{0} \\\\\n",
        "\\quad \\quad \\quad \\boldsymbol{A}^\\mathsf{T}\\boldsymbol{A}\\boldsymbol{x} &= \\boldsymbol{0}.\n",
        "\\end{align*}\n",
        "This implies that $\\boldsymbol{x} \\in N(\\boldsymbol{A}^\\mathsf{T}\\boldsymbol{A})$.\n",
        "\n",
        "Let $\\boldsymbol{x} \\in N(\\boldsymbol{A}^\\mathsf{T}\\boldsymbol{A})$. This means that $\\boldsymbol{A}^\\mathsf{T}\\boldsymbol{A}\\boldsymbol{x} = \\boldsymbol{0}$. Again, multiplying both sides by $\\boldsymbol{x}^\\mathsf{T}$, we get:\n",
        "$\\boldsymbol{x}^\\mathsf{T}(\\boldsymbol{A}^\\mathsf{T}\\boldsymbol{A}\\boldsymbol{x}) = \\boldsymbol{x}^\\mathsf{T}\\boldsymbol{0}$ <br>\n",
        "            $(\\boldsymbol{Ax})^\\mathsf{T}(\\boldsymbol{Ax}) = 0.$\n",
        "This implies that $\\boldsymbol{Ax} = \\boldsymbol{0}$. Therefore, $\\boldsymbol{x} \\in N(\\boldsymbol{A})$.\n",
        "\n",
        "As shown both $N(\\boldsymbol{A}) \\subseteq N(\\boldsymbol{A}^\\mathsf{T}\\boldsymbol{A})$ and $N(\\boldsymbol{A}^\\mathsf{T}\\boldsymbol{A}) \\subseteq N(\\boldsymbol{A})$, we conclude that $N(\\boldsymbol{A}) = N(\\boldsymbol{A}^\\mathsf{T}\\boldsymbol{A})$."
      ],
      "metadata": {},
      "id": "b263ea4a"
    },
    {
      "cell_type": "markdown",
      "source": [
        "## Task 1.5 (programming, 2 points)\n",
        "\n",
        "Compare the performance of matrix multiplication \n",
        "\n",
        "$$\n",
        "       \\boldsymbol C = \\boldsymbol {AB}, \\quad \\boldsymbol A \\in \\mathbb R^{m\\times n}, \\quad \\boldsymbol B \\in \\mathbb R^{n\\times p}.\n",
        "$$\n",
        "\n",
        "Try the following methods:\n",
        "\n",
        "* nested pythonic loop implementing the formula $C_{ik} = \\sum\\limits_{j=1}^n A_{ij}B_{jk}$\n",
        "* replace the inner `for` loop by `np.dot` for calculating $\\boldsymbol a_i^\\top \\boldsymbol b_k$\n",
        "* calculate $\\sum\\limits_{j=1}^n \\boldsymbol a_j \\boldsymbol b_j^\\top$ (use [np.outer](https://numpy.org/doc/stable/reference/generated/numpy.outer.html))\n",
        "* just use numpy and calculate `A @ B`\n",
        "\n",
        "The plan (see aslo dot product demo below):\n",
        "\n",
        "* implement these four functions\n",
        "* test that they return the same result\n",
        "* measure their performance on a square matrix of shape $100\\times 100$\n",
        "* plot graphs of the execution time versus $n$"
      ],
      "metadata": {},
      "id": "198ebb1d"
    },
    {
      "cell_type": "code",
      "source": [
        "import numpy as np\n",
        "\n",
        "def mat_mul_loop(A, B: np.array) -> np.array: # nested pythonic loop\n",
        "    m, n = A.shape\n",
        "    n, p = B.shape\n",
        "    C = np.zeros((m, p))\n",
        "    \n",
        "    for i in range(m):\n",
        "        for k in range(p):\n",
        "            C[i, k] = np.sum(A[i, :] * B[:, k]) # for A[i, :] --> : means all columns and for B[:, k] --> : means all rows\n",
        "    \n",
        "    return C\n",
        "\n",
        "def mat_mul_inner(A, B: np.array) -> np.array: # replace inner for loop by .dot\n",
        "    m, n = A.shape\n",
        "    n, p = B.shape\n",
        "    C = np.zeros((m, p))\n",
        "    \n",
        "    for i in range(m):\n",
        "        C[i, :] = A[i, :].dot(B)  # np.dot to replace the inner loop(.dot(matrix))\n",
        "    \n",
        "    return C\n",
        "\n",
        "def mat_mul_outer(A, B: np.array) -> np.array: # np.outer \n",
        "    result = np.sum([np.outer(A[:, j], B[:, j]) for j in range(A.shape[1])], axis=0)\n",
        "    return result\n",
        "\n",
        "def mat_mul_np(A, B: np.array) -> np.array:\n",
        "    return A @ B"
      ],
      "outputs": [],
      "execution_count": 1,
      "metadata": {},
      "id": "36fe3895"
    },
    {
      "cell_type": "code",
      "source": [
        "# TESTING AREA: \n",
        "# EVERYTHING OKAY, since, 'assert' statement checked, all conditions met, 'AssertionError' was not raised\n",
        "\n",
        "def TestMatrices(n_max):\n",
        "    for n in range(1, n_max):\n",
        "        m = np.random.randint(1, n_max)\n",
        "        p = np.random.randint(1, n_max)\n",
        "        A = np.random.randn(m, n)\n",
        "        B = np.random.randn(n, p)\n",
        "        prod_loop = mat_mul_loop(A, B)\n",
        "        prod_inner = mat_mul_inner(A, B)\n",
        "        prod_outer = mat_mul_outer(A, B)\n",
        "        prod_np = mat_mul_np(A, B)\n",
        "        assert np.allclose(prod_loop, prod_inner)\n",
        "        assert np.allclose(prod_loop, prod_np)\n",
        "        assert np.allclose(prod_loop, prod_outer)"
      ],
      "outputs": [],
      "execution_count": 10,
      "metadata": {},
      "id": "f0b33d6a"
    },
    {
      "cell_type": "code",
      "source": [
        "TestMatrices"
      ],
      "outputs": [
        {
          "output_type": "execute_result",
          "execution_count": 15,
          "data": {
            "text/plain": "<function __main__.TestMatrices(n_max)>"
          },
          "metadata": {}
        }
      ],
      "execution_count": 15,
      "metadata": {},
      "id": "dc4e2233"
    },
    {
      "cell_type": "markdown",
      "source": [
        "Measure performance on two square matrices:"
      ],
      "metadata": {},
      "id": "0b594427"
    },
    {
      "cell_type": "code",
      "source": [
        "n = 100\n",
        "A = np.random.randn(n, n)\n",
        "B = np.random.randn(n, n)"
      ],
      "outputs": [],
      "execution_count": 16,
      "metadata": {},
      "id": "2437b33f"
    },
    {
      "cell_type": "code",
      "source": [
        "%%timeit\n",
        "mat_mul_loop(A, B)"
      ],
      "outputs": [
        {
          "output_type": "stream",
          "name": "stdout",
          "text": "554 ms ± 11.4 ms per loop (mean ± std. dev. of 7 runs, 1 loop each)\n"
        }
      ],
      "execution_count": 17,
      "metadata": {},
      "id": "ae67babd"
    },
    {
      "cell_type": "code",
      "source": [
        "%%timeit\n",
        "mat_mul_inner(A, B)"
      ],
      "outputs": [
        {
          "output_type": "stream",
          "name": "stdout",
          "text": "4.67 ms ± 2.05 ms per loop (mean ± std. dev. of 7 runs, 100 loops each)\n"
        }
      ],
      "execution_count": 18,
      "metadata": {},
      "id": "80143d02"
    },
    {
      "cell_type": "code",
      "source": [
        "%%timeit\n",
        "mat_mul_outer(A, B)"
      ],
      "outputs": [
        {
          "output_type": "stream",
          "name": "stdout",
          "text": "74.4 ms ± 9.3 ms per loop (mean ± std. dev. of 7 runs, 10 loops each)\n"
        }
      ],
      "execution_count": 19,
      "metadata": {},
      "id": "d7535322"
    },
    {
      "cell_type": "code",
      "source": [
        "%%timeit\n",
        "mat_mul_np(A, B)"
      ],
      "outputs": [
        {
          "output_type": "stream",
          "name": "stdout",
          "text": "399 µs ± 173 µs per loop (mean ± std. dev. of 7 runs, 1000 loops each)\n"
        }
      ],
      "execution_count": 20,
      "metadata": {},
      "id": "2752285d"
    },
    {
      "cell_type": "code",
      "source": [
        "# timeit!\n",
        "# Wrote solutions above"
      ],
      "outputs": [],
      "execution_count": 51,
      "metadata": {},
      "id": "9dc6b4e6"
    },
    {
      "cell_type": "markdown",
      "source": [
        "Plot the graphs:"
      ],
      "metadata": {},
      "id": "3f41deca"
    },
    {
      "cell_type": "code",
      "source": [
        "import matplotlib.pyplot as plt\n",
        "from time import time\n",
        "\n",
        "%config InlineBackend.figure_format = 'svg'\n",
        "\n",
        "def measure_time(func, m, n, p, n_samples=10):\n",
        "    result = np.zeros(n_samples)\n",
        "    for i in range(n_samples):\n",
        "        begin = time()\n",
        "        func(np.random.randn(m, n), np.random.randn(n, p))\n",
        "        result[i] = time() - begin\n",
        "    return result.mean()\n",
        "\n",
        "def get_times_lists(func, step=10, max_size=200, n_samples=20):\n",
        "    times = []\n",
        "    sizes = np.arange(step, max_size + 1, step)\n",
        "    for size in sizes:\n",
        "        times.append(measure_time(func, size, size, size, n_samples))\n",
        "    return np.array(times)\n",
        "\n",
        "def plot_time_vs_size(step=10, max_size=100, n_samples=20):\n",
        "    loop_times = 1000*get_times_lists(mat_mul_loop, step, max_size, n_samples)\n",
        "    inner_times = 1000*get_times_lists(mat_mul_inner, step, max_size, n_samples)\n",
        "    outer_times = 1000*get_times_lists(mat_mul_outer, step, max_size, n_samples)\n",
        "    np_times = 1000*get_times_lists(mat_mul_np, step, max_size, n_samples)\n",
        "    sizes = np.arange(step, max_size + 1, step)\n",
        "    plt.semilogy(sizes, loop_times, c='r', lw=2, label=\"loop\")\n",
        "    plt.semilogy(sizes, inner_times, c='b', lw=2, label=\"inner\")\n",
        "    plt.semilogy(sizes, outer_times, c='g', lw=2, label=\"outer\")\n",
        "    plt.semilogy(sizes, np_times, c='m', lw=2, label=\"np\")\n",
        "    plt.xlim(0, max_size)\n",
        "    plt.title(\"Matrix product\")\n",
        "    plt.legend()\n",
        "    plt.xlabel(\"size\")\n",
        "    plt.ylabel(\"time, ms\")\n",
        "    plt.grid(ls=\":\")"
      ],
      "outputs": [],
      "execution_count": 27,
      "metadata": {},
      "id": "875f0a79"
    },
    {
      "cell_type": "code",
      "source": [
        "plot_time_vs_size()"
      ],
      "outputs": [
        {
          "output_type": "display_data",
          "data": {
            "image/svg+xml": "<?xml version=\"1.0\" encoding=\"utf-8\" standalone=\"no\"?>\n<!DOCTYPE svg PUBLIC \"-//W3C//DTD SVG 1.1//EN\"\n  \"http://www.w3.org/Graphics/SVG/1.1/DTD/svg11.dtd\">\n<svg xmlns:xlink=\"http://www.w3.org/1999/xlink\" width=\"419.341875pt\" height=\"325.986375pt\" viewBox=\"0 0 419.341875 325.986375\" xmlns=\"http://www.w3.org/2000/svg\" version=\"1.1\">\n <metadata>\n  <rdf:RDF xmlns:dc=\"http://purl.org/dc/elements/1.1/\" xmlns:cc=\"http://creativecommons.org/ns#\" xmlns:rdf=\"http://www.w3.org/1999/02/22-rdf-syntax-ns#\">\n   <cc:Work>\n    <dc:type rdf:resource=\"http://purl.org/dc/dcmitype/StillImage\"/>\n    <dc:date>2024-01-30T23:38:13.272838</dc:date>\n    <dc:format>image/svg+xml</dc:format>\n    <dc:creator>\n     <cc:Agent>\n      <dc:title>Matplotlib v3.5.2, https://matplotlib.org/</dc:title>\n     </cc:Agent>\n    </dc:creator>\n   </cc:Work>\n  </rdf:RDF>\n </metadata>\n <defs>\n  <style type=\"text/css\">*{stroke-linejoin: round; stroke-linecap: butt}</style>\n </defs>\n <g id=\"figure_1\">\n  <g id=\"patch_1\">\n   <path d=\"M 0 325.986375 \nL 419.341875 325.986375 \nL 419.341875 0 \nL 0 0 \nz\n\" style=\"fill: #ffffff\"/>\n  </g>\n  <g id=\"axes_1\">\n   <g id=\"patch_2\">\n    <path d=\"M 45.478125 288.430125 \nL 402.598125 288.430125 \nL 402.598125 22.318125 \nL 45.478125 22.318125 \nz\n\" style=\"fill: #ffffff\"/>\n   </g>\n   <g id=\"matplotlib.axis_1\">\n    <g id=\"xtick_1\">\n     <g id=\"line2d_1\">\n      <path d=\"M 45.478125 288.430125 \nL 45.478125 22.318125 \n\" clip-path=\"url(#p8cb325f38a)\" style=\"fill: none; stroke-dasharray: 0.8,1.32; stroke-dashoffset: 0; stroke: #b0b0b0; stroke-width: 0.8\"/>\n     </g>\n     <g id=\"line2d_2\">\n      <defs>\n       <path id=\"m49b536bfa6\" d=\"M 0 0 \nL 0 3.5 \n\" style=\"stroke: #000000; stroke-width: 0.8\"/>\n      </defs>\n      <g>\n       <use xlink:href=\"#m49b536bfa6\" x=\"45.478125\" y=\"288.430125\" style=\"stroke: #000000; stroke-width: 0.8\"/>\n      </g>\n     </g>\n     <g id=\"text_1\">\n      <!-- 0 -->\n      <g transform=\"translate(42.296875 303.028562)scale(0.1 -0.1)\">\n       <defs>\n        <path id=\"DejaVuSans-30\" d=\"M 2034 4250 \nQ 1547 4250 1301 3770 \nQ 1056 3291 1056 2328 \nQ 1056 1369 1301 889 \nQ 1547 409 2034 409 \nQ 2525 409 2770 889 \nQ 3016 1369 3016 2328 \nQ 3016 3291 2770 3770 \nQ 2525 4250 2034 4250 \nz\nM 2034 4750 \nQ 2819 4750 3233 4129 \nQ 3647 3509 3647 2328 \nQ 3647 1150 3233 529 \nQ 2819 -91 2034 -91 \nQ 1250 -91 836 529 \nQ 422 1150 422 2328 \nQ 422 3509 836 4129 \nQ 1250 4750 2034 4750 \nz\n\" transform=\"scale(0.015625)\"/>\n       </defs>\n       <use xlink:href=\"#DejaVuSans-30\"/>\n      </g>\n     </g>\n    </g>\n    <g id=\"xtick_2\">\n     <g id=\"line2d_3\">\n      <path d=\"M 116.902125 288.430125 \nL 116.902125 22.318125 \n\" clip-path=\"url(#p8cb325f38a)\" style=\"fill: none; stroke-dasharray: 0.8,1.32; stroke-dashoffset: 0; stroke: #b0b0b0; stroke-width: 0.8\"/>\n     </g>\n     <g id=\"line2d_4\">\n      <g>\n       <use xlink:href=\"#m49b536bfa6\" x=\"116.902125\" y=\"288.430125\" style=\"stroke: #000000; stroke-width: 0.8\"/>\n      </g>\n     </g>\n     <g id=\"text_2\">\n      <!-- 20 -->\n      <g transform=\"translate(110.539625 303.028562)scale(0.1 -0.1)\">\n       <defs>\n        <path id=\"DejaVuSans-32\" d=\"M 1228 531 \nL 3431 531 \nL 3431 0 \nL 469 0 \nL 469 531 \nQ 828 903 1448 1529 \nQ 2069 2156 2228 2338 \nQ 2531 2678 2651 2914 \nQ 2772 3150 2772 3378 \nQ 2772 3750 2511 3984 \nQ 2250 4219 1831 4219 \nQ 1534 4219 1204 4116 \nQ 875 4013 500 3803 \nL 500 4441 \nQ 881 4594 1212 4672 \nQ 1544 4750 1819 4750 \nQ 2544 4750 2975 4387 \nQ 3406 4025 3406 3419 \nQ 3406 3131 3298 2873 \nQ 3191 2616 2906 2266 \nQ 2828 2175 2409 1742 \nQ 1991 1309 1228 531 \nz\n\" transform=\"scale(0.015625)\"/>\n       </defs>\n       <use xlink:href=\"#DejaVuSans-32\"/>\n       <use xlink:href=\"#DejaVuSans-30\" x=\"63.623047\"/>\n      </g>\n     </g>\n    </g>\n    <g id=\"xtick_3\">\n     <g id=\"line2d_5\">\n      <path d=\"M 188.326125 288.430125 \nL 188.326125 22.318125 \n\" clip-path=\"url(#p8cb325f38a)\" style=\"fill: none; stroke-dasharray: 0.8,1.32; stroke-dashoffset: 0; stroke: #b0b0b0; stroke-width: 0.8\"/>\n     </g>\n     <g id=\"line2d_6\">\n      <g>\n       <use xlink:href=\"#m49b536bfa6\" x=\"188.326125\" y=\"288.430125\" style=\"stroke: #000000; stroke-width: 0.8\"/>\n      </g>\n     </g>\n     <g id=\"text_3\">\n      <!-- 40 -->\n      <g transform=\"translate(181.963625 303.028562)scale(0.1 -0.1)\">\n       <defs>\n        <path id=\"DejaVuSans-34\" d=\"M 2419 4116 \nL 825 1625 \nL 2419 1625 \nL 2419 4116 \nz\nM 2253 4666 \nL 3047 4666 \nL 3047 1625 \nL 3713 1625 \nL 3713 1100 \nL 3047 1100 \nL 3047 0 \nL 2419 0 \nL 2419 1100 \nL 313 1100 \nL 313 1709 \nL 2253 4666 \nz\n\" transform=\"scale(0.015625)\"/>\n       </defs>\n       <use xlink:href=\"#DejaVuSans-34\"/>\n       <use xlink:href=\"#DejaVuSans-30\" x=\"63.623047\"/>\n      </g>\n     </g>\n    </g>\n    <g id=\"xtick_4\">\n     <g id=\"line2d_7\">\n      <path d=\"M 259.750125 288.430125 \nL 259.750125 22.318125 \n\" clip-path=\"url(#p8cb325f38a)\" style=\"fill: none; stroke-dasharray: 0.8,1.32; stroke-dashoffset: 0; stroke: #b0b0b0; stroke-width: 0.8\"/>\n     </g>\n     <g id=\"line2d_8\">\n      <g>\n       <use xlink:href=\"#m49b536bfa6\" x=\"259.750125\" y=\"288.430125\" style=\"stroke: #000000; stroke-width: 0.8\"/>\n      </g>\n     </g>\n     <g id=\"text_4\">\n      <!-- 60 -->\n      <g transform=\"translate(253.387625 303.028562)scale(0.1 -0.1)\">\n       <defs>\n        <path id=\"DejaVuSans-36\" d=\"M 2113 2584 \nQ 1688 2584 1439 2293 \nQ 1191 2003 1191 1497 \nQ 1191 994 1439 701 \nQ 1688 409 2113 409 \nQ 2538 409 2786 701 \nQ 3034 994 3034 1497 \nQ 3034 2003 2786 2293 \nQ 2538 2584 2113 2584 \nz\nM 3366 4563 \nL 3366 3988 \nQ 3128 4100 2886 4159 \nQ 2644 4219 2406 4219 \nQ 1781 4219 1451 3797 \nQ 1122 3375 1075 2522 \nQ 1259 2794 1537 2939 \nQ 1816 3084 2150 3084 \nQ 2853 3084 3261 2657 \nQ 3669 2231 3669 1497 \nQ 3669 778 3244 343 \nQ 2819 -91 2113 -91 \nQ 1303 -91 875 529 \nQ 447 1150 447 2328 \nQ 447 3434 972 4092 \nQ 1497 4750 2381 4750 \nQ 2619 4750 2861 4703 \nQ 3103 4656 3366 4563 \nz\n\" transform=\"scale(0.015625)\"/>\n       </defs>\n       <use xlink:href=\"#DejaVuSans-36\"/>\n       <use xlink:href=\"#DejaVuSans-30\" x=\"63.623047\"/>\n      </g>\n     </g>\n    </g>\n    <g id=\"xtick_5\">\n     <g id=\"line2d_9\">\n      <path d=\"M 331.174125 288.430125 \nL 331.174125 22.318125 \n\" clip-path=\"url(#p8cb325f38a)\" style=\"fill: none; stroke-dasharray: 0.8,1.32; stroke-dashoffset: 0; stroke: #b0b0b0; stroke-width: 0.8\"/>\n     </g>\n     <g id=\"line2d_10\">\n      <g>\n       <use xlink:href=\"#m49b536bfa6\" x=\"331.174125\" y=\"288.430125\" style=\"stroke: #000000; stroke-width: 0.8\"/>\n      </g>\n     </g>\n     <g id=\"text_5\">\n      <!-- 80 -->\n      <g transform=\"translate(324.811625 303.028562)scale(0.1 -0.1)\">\n       <defs>\n        <path id=\"DejaVuSans-38\" d=\"M 2034 2216 \nQ 1584 2216 1326 1975 \nQ 1069 1734 1069 1313 \nQ 1069 891 1326 650 \nQ 1584 409 2034 409 \nQ 2484 409 2743 651 \nQ 3003 894 3003 1313 \nQ 3003 1734 2745 1975 \nQ 2488 2216 2034 2216 \nz\nM 1403 2484 \nQ 997 2584 770 2862 \nQ 544 3141 544 3541 \nQ 544 4100 942 4425 \nQ 1341 4750 2034 4750 \nQ 2731 4750 3128 4425 \nQ 3525 4100 3525 3541 \nQ 3525 3141 3298 2862 \nQ 3072 2584 2669 2484 \nQ 3125 2378 3379 2068 \nQ 3634 1759 3634 1313 \nQ 3634 634 3220 271 \nQ 2806 -91 2034 -91 \nQ 1263 -91 848 271 \nQ 434 634 434 1313 \nQ 434 1759 690 2068 \nQ 947 2378 1403 2484 \nz\nM 1172 3481 \nQ 1172 3119 1398 2916 \nQ 1625 2713 2034 2713 \nQ 2441 2713 2670 2916 \nQ 2900 3119 2900 3481 \nQ 2900 3844 2670 4047 \nQ 2441 4250 2034 4250 \nQ 1625 4250 1398 4047 \nQ 1172 3844 1172 3481 \nz\n\" transform=\"scale(0.015625)\"/>\n       </defs>\n       <use xlink:href=\"#DejaVuSans-38\"/>\n       <use xlink:href=\"#DejaVuSans-30\" x=\"63.623047\"/>\n      </g>\n     </g>\n    </g>\n    <g id=\"xtick_6\">\n     <g id=\"line2d_11\">\n      <path d=\"M 402.598125 288.430125 \nL 402.598125 22.318125 \n\" clip-path=\"url(#p8cb325f38a)\" style=\"fill: none; stroke-dasharray: 0.8,1.32; stroke-dashoffset: 0; stroke: #b0b0b0; stroke-width: 0.8\"/>\n     </g>\n     <g id=\"line2d_12\">\n      <g>\n       <use xlink:href=\"#m49b536bfa6\" x=\"402.598125\" y=\"288.430125\" style=\"stroke: #000000; stroke-width: 0.8\"/>\n      </g>\n     </g>\n     <g id=\"text_6\">\n      <!-- 100 -->\n      <g transform=\"translate(393.054375 303.028562)scale(0.1 -0.1)\">\n       <defs>\n        <path id=\"DejaVuSans-31\" d=\"M 794 531 \nL 1825 531 \nL 1825 4091 \nL 703 3866 \nL 703 4441 \nL 1819 4666 \nL 2450 4666 \nL 2450 531 \nL 3481 531 \nL 3481 0 \nL 794 0 \nL 794 531 \nz\n\" transform=\"scale(0.015625)\"/>\n       </defs>\n       <use xlink:href=\"#DejaVuSans-31\"/>\n       <use xlink:href=\"#DejaVuSans-30\" x=\"63.623047\"/>\n       <use xlink:href=\"#DejaVuSans-30\" x=\"127.246094\"/>\n      </g>\n     </g>\n    </g>\n    <g id=\"text_7\">\n     <!-- size -->\n     <g transform=\"translate(214.343594 316.706687)scale(0.1 -0.1)\">\n      <defs>\n       <path id=\"DejaVuSans-73\" d=\"M 2834 3397 \nL 2834 2853 \nQ 2591 2978 2328 3040 \nQ 2066 3103 1784 3103 \nQ 1356 3103 1142 2972 \nQ 928 2841 928 2578 \nQ 928 2378 1081 2264 \nQ 1234 2150 1697 2047 \nL 1894 2003 \nQ 2506 1872 2764 1633 \nQ 3022 1394 3022 966 \nQ 3022 478 2636 193 \nQ 2250 -91 1575 -91 \nQ 1294 -91 989 -36 \nQ 684 19 347 128 \nL 347 722 \nQ 666 556 975 473 \nQ 1284 391 1588 391 \nQ 1994 391 2212 530 \nQ 2431 669 2431 922 \nQ 2431 1156 2273 1281 \nQ 2116 1406 1581 1522 \nL 1381 1569 \nQ 847 1681 609 1914 \nQ 372 2147 372 2553 \nQ 372 3047 722 3315 \nQ 1072 3584 1716 3584 \nQ 2034 3584 2315 3537 \nQ 2597 3491 2834 3397 \nz\n\" transform=\"scale(0.015625)\"/>\n       <path id=\"DejaVuSans-69\" d=\"M 603 3500 \nL 1178 3500 \nL 1178 0 \nL 603 0 \nL 603 3500 \nz\nM 603 4863 \nL 1178 4863 \nL 1178 4134 \nL 603 4134 \nL 603 4863 \nz\n\" transform=\"scale(0.015625)\"/>\n       <path id=\"DejaVuSans-7a\" d=\"M 353 3500 \nL 3084 3500 \nL 3084 2975 \nL 922 459 \nL 3084 459 \nL 3084 0 \nL 275 0 \nL 275 525 \nL 2438 3041 \nL 353 3041 \nL 353 3500 \nz\n\" transform=\"scale(0.015625)\"/>\n       <path id=\"DejaVuSans-65\" d=\"M 3597 1894 \nL 3597 1613 \nL 953 1613 \nQ 991 1019 1311 708 \nQ 1631 397 2203 397 \nQ 2534 397 2845 478 \nQ 3156 559 3463 722 \nL 3463 178 \nQ 3153 47 2828 -22 \nQ 2503 -91 2169 -91 \nQ 1331 -91 842 396 \nQ 353 884 353 1716 \nQ 353 2575 817 3079 \nQ 1281 3584 2069 3584 \nQ 2775 3584 3186 3129 \nQ 3597 2675 3597 1894 \nz\nM 3022 2063 \nQ 3016 2534 2758 2815 \nQ 2500 3097 2075 3097 \nQ 1594 3097 1305 2825 \nQ 1016 2553 972 2059 \nL 3022 2063 \nz\n\" transform=\"scale(0.015625)\"/>\n      </defs>\n      <use xlink:href=\"#DejaVuSans-73\"/>\n      <use xlink:href=\"#DejaVuSans-69\" x=\"52.099609\"/>\n      <use xlink:href=\"#DejaVuSans-7a\" x=\"79.882812\"/>\n      <use xlink:href=\"#DejaVuSans-65\" x=\"132.373047\"/>\n     </g>\n    </g>\n   </g>\n   <g id=\"matplotlib.axis_2\">\n    <g id=\"ytick_1\">\n     <g id=\"line2d_13\">\n      <path d=\"M 45.478125 267.380646 \nL 402.598125 267.380646 \n\" clip-path=\"url(#p8cb325f38a)\" style=\"fill: none; stroke-dasharray: 0.8,1.32; stroke-dashoffset: 0; stroke: #b0b0b0; stroke-width: 0.8\"/>\n     </g>\n     <g id=\"line2d_14\">\n      <defs>\n       <path id=\"m783e93daa0\" d=\"M 0 0 \nL -3.5 0 \n\" style=\"stroke: #000000; stroke-width: 0.8\"/>\n      </defs>\n      <g>\n       <use xlink:href=\"#m783e93daa0\" x=\"45.478125\" y=\"267.380646\" style=\"stroke: #000000; stroke-width: 0.8\"/>\n      </g>\n     </g>\n     <g id=\"text_8\">\n      <!-- $\\mathdefault{10^{0}}$ -->\n      <g transform=\"translate(20.878125 271.179865)scale(0.1 -0.1)\">\n       <use xlink:href=\"#DejaVuSans-31\" transform=\"translate(0 0.765625)\"/>\n       <use xlink:href=\"#DejaVuSans-30\" transform=\"translate(63.623047 0.765625)\"/>\n       <use xlink:href=\"#DejaVuSans-30\" transform=\"translate(128.203125 39.046875)scale(0.7)\"/>\n      </g>\n     </g>\n    </g>\n    <g id=\"ytick_2\">\n     <g id=\"line2d_15\">\n      <path d=\"M 45.478125 184.016621 \nL 402.598125 184.016621 \n\" clip-path=\"url(#p8cb325f38a)\" style=\"fill: none; stroke-dasharray: 0.8,1.32; stroke-dashoffset: 0; stroke: #b0b0b0; stroke-width: 0.8\"/>\n     </g>\n     <g id=\"line2d_16\">\n      <g>\n       <use xlink:href=\"#m783e93daa0\" x=\"45.478125\" y=\"184.016621\" style=\"stroke: #000000; stroke-width: 0.8\"/>\n      </g>\n     </g>\n     <g id=\"text_9\">\n      <!-- $\\mathdefault{10^{1}}$ -->\n      <g transform=\"translate(20.878125 187.81584)scale(0.1 -0.1)\">\n       <use xlink:href=\"#DejaVuSans-31\" transform=\"translate(0 0.684375)\"/>\n       <use xlink:href=\"#DejaVuSans-30\" transform=\"translate(63.623047 0.684375)\"/>\n       <use xlink:href=\"#DejaVuSans-31\" transform=\"translate(128.203125 38.965625)scale(0.7)\"/>\n      </g>\n     </g>\n    </g>\n    <g id=\"ytick_3\">\n     <g id=\"line2d_17\">\n      <path d=\"M 45.478125 100.652596 \nL 402.598125 100.652596 \n\" clip-path=\"url(#p8cb325f38a)\" style=\"fill: none; stroke-dasharray: 0.8,1.32; stroke-dashoffset: 0; stroke: #b0b0b0; stroke-width: 0.8\"/>\n     </g>\n     <g id=\"line2d_18\">\n      <g>\n       <use xlink:href=\"#m783e93daa0\" x=\"45.478125\" y=\"100.652596\" style=\"stroke: #000000; stroke-width: 0.8\"/>\n      </g>\n     </g>\n     <g id=\"text_10\">\n      <!-- $\\mathdefault{10^{2}}$ -->\n      <g transform=\"translate(20.878125 104.451815)scale(0.1 -0.1)\">\n       <use xlink:href=\"#DejaVuSans-31\" transform=\"translate(0 0.765625)\"/>\n       <use xlink:href=\"#DejaVuSans-30\" transform=\"translate(63.623047 0.765625)\"/>\n       <use xlink:href=\"#DejaVuSans-32\" transform=\"translate(128.203125 39.046875)scale(0.7)\"/>\n      </g>\n     </g>\n    </g>\n    <g id=\"ytick_4\">\n     <g id=\"line2d_19\">\n      <defs>\n       <path id=\"m87ba8081a5\" d=\"M 0 0 \nL -2 0 \n\" style=\"stroke: #000000; stroke-width: 0.6\"/>\n      </defs>\n      <g>\n       <use xlink:href=\"#m87ba8081a5\" x=\"45.478125\" y=\"285.874851\" style=\"stroke: #000000; stroke-width: 0.6\"/>\n      </g>\n     </g>\n    </g>\n    <g id=\"ytick_5\">\n     <g id=\"line2d_20\">\n      <g>\n       <use xlink:href=\"#m87ba8081a5\" x=\"45.478125\" y=\"280.293897\" style=\"stroke: #000000; stroke-width: 0.6\"/>\n      </g>\n     </g>\n    </g>\n    <g id=\"ytick_6\">\n     <g id=\"line2d_21\">\n      <g>\n       <use xlink:href=\"#m87ba8081a5\" x=\"45.478125\" y=\"275.459455\" style=\"stroke: #000000; stroke-width: 0.6\"/>\n      </g>\n     </g>\n    </g>\n    <g id=\"ytick_7\">\n     <g id=\"line2d_22\">\n      <g>\n       <use xlink:href=\"#m87ba8081a5\" x=\"45.478125\" y=\"271.195175\" style=\"stroke: #000000; stroke-width: 0.6\"/>\n      </g>\n     </g>\n    </g>\n    <g id=\"ytick_8\">\n     <g id=\"line2d_23\">\n      <g>\n       <use xlink:href=\"#m87ba8081a5\" x=\"45.478125\" y=\"242.285574\" style=\"stroke: #000000; stroke-width: 0.6\"/>\n      </g>\n     </g>\n    </g>\n    <g id=\"ytick_9\">\n     <g id=\"line2d_24\">\n      <g>\n       <use xlink:href=\"#m87ba8081a5\" x=\"45.478125\" y=\"227.605898\" style=\"stroke: #000000; stroke-width: 0.6\"/>\n      </g>\n     </g>\n    </g>\n    <g id=\"ytick_10\">\n     <g id=\"line2d_25\">\n      <g>\n       <use xlink:href=\"#m87ba8081a5\" x=\"45.478125\" y=\"217.190502\" style=\"stroke: #000000; stroke-width: 0.6\"/>\n      </g>\n     </g>\n    </g>\n    <g id=\"ytick_11\">\n     <g id=\"line2d_26\">\n      <g>\n       <use xlink:href=\"#m87ba8081a5\" x=\"45.478125\" y=\"209.111693\" style=\"stroke: #000000; stroke-width: 0.6\"/>\n      </g>\n     </g>\n    </g>\n    <g id=\"ytick_12\">\n     <g id=\"line2d_27\">\n      <g>\n       <use xlink:href=\"#m87ba8081a5\" x=\"45.478125\" y=\"202.510826\" style=\"stroke: #000000; stroke-width: 0.6\"/>\n      </g>\n     </g>\n    </g>\n    <g id=\"ytick_13\">\n     <g id=\"line2d_28\">\n      <g>\n       <use xlink:href=\"#m87ba8081a5\" x=\"45.478125\" y=\"196.929872\" style=\"stroke: #000000; stroke-width: 0.6\"/>\n      </g>\n     </g>\n    </g>\n    <g id=\"ytick_14\">\n     <g id=\"line2d_29\">\n      <g>\n       <use xlink:href=\"#m87ba8081a5\" x=\"45.478125\" y=\"192.09543\" style=\"stroke: #000000; stroke-width: 0.6\"/>\n      </g>\n     </g>\n    </g>\n    <g id=\"ytick_15\">\n     <g id=\"line2d_30\">\n      <g>\n       <use xlink:href=\"#m87ba8081a5\" x=\"45.478125\" y=\"187.83115\" style=\"stroke: #000000; stroke-width: 0.6\"/>\n      </g>\n     </g>\n    </g>\n    <g id=\"ytick_16\">\n     <g id=\"line2d_31\">\n      <g>\n       <use xlink:href=\"#m87ba8081a5\" x=\"45.478125\" y=\"158.921549\" style=\"stroke: #000000; stroke-width: 0.6\"/>\n      </g>\n     </g>\n    </g>\n    <g id=\"ytick_17\">\n     <g id=\"line2d_32\">\n      <g>\n       <use xlink:href=\"#m87ba8081a5\" x=\"45.478125\" y=\"144.241873\" style=\"stroke: #000000; stroke-width: 0.6\"/>\n      </g>\n     </g>\n    </g>\n    <g id=\"ytick_18\">\n     <g id=\"line2d_33\">\n      <g>\n       <use xlink:href=\"#m87ba8081a5\" x=\"45.478125\" y=\"133.826477\" style=\"stroke: #000000; stroke-width: 0.6\"/>\n      </g>\n     </g>\n    </g>\n    <g id=\"ytick_19\">\n     <g id=\"line2d_34\">\n      <g>\n       <use xlink:href=\"#m87ba8081a5\" x=\"45.478125\" y=\"125.747668\" style=\"stroke: #000000; stroke-width: 0.6\"/>\n      </g>\n     </g>\n    </g>\n    <g id=\"ytick_20\">\n     <g id=\"line2d_35\">\n      <g>\n       <use xlink:href=\"#m87ba8081a5\" x=\"45.478125\" y=\"119.146801\" style=\"stroke: #000000; stroke-width: 0.6\"/>\n      </g>\n     </g>\n    </g>\n    <g id=\"ytick_21\">\n     <g id=\"line2d_36\">\n      <g>\n       <use xlink:href=\"#m87ba8081a5\" x=\"45.478125\" y=\"113.565847\" style=\"stroke: #000000; stroke-width: 0.6\"/>\n      </g>\n     </g>\n    </g>\n    <g id=\"ytick_22\">\n     <g id=\"line2d_37\">\n      <g>\n       <use xlink:href=\"#m87ba8081a5\" x=\"45.478125\" y=\"108.731405\" style=\"stroke: #000000; stroke-width: 0.6\"/>\n      </g>\n     </g>\n    </g>\n    <g id=\"ytick_23\">\n     <g id=\"line2d_38\">\n      <g>\n       <use xlink:href=\"#m87ba8081a5\" x=\"45.478125\" y=\"104.467125\" style=\"stroke: #000000; stroke-width: 0.6\"/>\n      </g>\n     </g>\n    </g>\n    <g id=\"ytick_24\">\n     <g id=\"line2d_39\">\n      <g>\n       <use xlink:href=\"#m87ba8081a5\" x=\"45.478125\" y=\"75.557524\" style=\"stroke: #000000; stroke-width: 0.6\"/>\n      </g>\n     </g>\n    </g>\n    <g id=\"ytick_25\">\n     <g id=\"line2d_40\">\n      <g>\n       <use xlink:href=\"#m87ba8081a5\" x=\"45.478125\" y=\"60.877848\" style=\"stroke: #000000; stroke-width: 0.6\"/>\n      </g>\n     </g>\n    </g>\n    <g id=\"ytick_26\">\n     <g id=\"line2d_41\">\n      <g>\n       <use xlink:href=\"#m87ba8081a5\" x=\"45.478125\" y=\"50.462452\" style=\"stroke: #000000; stroke-width: 0.6\"/>\n      </g>\n     </g>\n    </g>\n    <g id=\"ytick_27\">\n     <g id=\"line2d_42\">\n      <g>\n       <use xlink:href=\"#m87ba8081a5\" x=\"45.478125\" y=\"42.383643\" style=\"stroke: #000000; stroke-width: 0.6\"/>\n      </g>\n     </g>\n    </g>\n    <g id=\"ytick_28\">\n     <g id=\"line2d_43\">\n      <g>\n       <use xlink:href=\"#m87ba8081a5\" x=\"45.478125\" y=\"35.782776\" style=\"stroke: #000000; stroke-width: 0.6\"/>\n      </g>\n     </g>\n    </g>\n    <g id=\"ytick_29\">\n     <g id=\"line2d_44\">\n      <g>\n       <use xlink:href=\"#m87ba8081a5\" x=\"45.478125\" y=\"30.201822\" style=\"stroke: #000000; stroke-width: 0.6\"/>\n      </g>\n     </g>\n    </g>\n    <g id=\"ytick_30\">\n     <g id=\"line2d_45\">\n      <g>\n       <use xlink:href=\"#m87ba8081a5\" x=\"45.478125\" y=\"25.36738\" style=\"stroke: #000000; stroke-width: 0.6\"/>\n      </g>\n     </g>\n    </g>\n    <g id=\"text_11\">\n     <!-- time, ms -->\n     <g transform=\"translate(14.798438 177.323344)rotate(-90)scale(0.1 -0.1)\">\n      <defs>\n       <path id=\"DejaVuSans-74\" d=\"M 1172 4494 \nL 1172 3500 \nL 2356 3500 \nL 2356 3053 \nL 1172 3053 \nL 1172 1153 \nQ 1172 725 1289 603 \nQ 1406 481 1766 481 \nL 2356 481 \nL 2356 0 \nL 1766 0 \nQ 1100 0 847 248 \nQ 594 497 594 1153 \nL 594 3053 \nL 172 3053 \nL 172 3500 \nL 594 3500 \nL 594 4494 \nL 1172 4494 \nz\n\" transform=\"scale(0.015625)\"/>\n       <path id=\"DejaVuSans-6d\" d=\"M 3328 2828 \nQ 3544 3216 3844 3400 \nQ 4144 3584 4550 3584 \nQ 5097 3584 5394 3201 \nQ 5691 2819 5691 2113 \nL 5691 0 \nL 5113 0 \nL 5113 2094 \nQ 5113 2597 4934 2840 \nQ 4756 3084 4391 3084 \nQ 3944 3084 3684 2787 \nQ 3425 2491 3425 1978 \nL 3425 0 \nL 2847 0 \nL 2847 2094 \nQ 2847 2600 2669 2842 \nQ 2491 3084 2119 3084 \nQ 1678 3084 1418 2786 \nQ 1159 2488 1159 1978 \nL 1159 0 \nL 581 0 \nL 581 3500 \nL 1159 3500 \nL 1159 2956 \nQ 1356 3278 1631 3431 \nQ 1906 3584 2284 3584 \nQ 2666 3584 2933 3390 \nQ 3200 3197 3328 2828 \nz\n\" transform=\"scale(0.015625)\"/>\n       <path id=\"DejaVuSans-2c\" d=\"M 750 794 \nL 1409 794 \nL 1409 256 \nL 897 -744 \nL 494 -744 \nL 750 256 \nL 750 794 \nz\n\" transform=\"scale(0.015625)\"/>\n       <path id=\"DejaVuSans-20\" transform=\"scale(0.015625)\"/>\n      </defs>\n      <use xlink:href=\"#DejaVuSans-74\"/>\n      <use xlink:href=\"#DejaVuSans-69\" x=\"39.208984\"/>\n      <use xlink:href=\"#DejaVuSans-6d\" x=\"66.992188\"/>\n      <use xlink:href=\"#DejaVuSans-65\" x=\"164.404297\"/>\n      <use xlink:href=\"#DejaVuSans-2c\" x=\"225.927734\"/>\n      <use xlink:href=\"#DejaVuSans-20\" x=\"257.714844\"/>\n      <use xlink:href=\"#DejaVuSans-6d\" x=\"289.501953\"/>\n      <use xlink:href=\"#DejaVuSans-73\" x=\"386.914062\"/>\n     </g>\n    </g>\n   </g>\n   <g id=\"line2d_46\">\n    <path d=\"M 81.190125 199.718613 \nL 116.902125 149.346214 \nL 152.614125 124.962445 \nL 188.326125 100.808546 \nL 224.038125 88.234212 \nL 259.750125 73.396635 \nL 295.462125 62.195436 \nL 331.174125 47.653353 \nL 366.886125 39.051909 \nL 402.598125 34.414125 \n\" clip-path=\"url(#p8cb325f38a)\" style=\"fill: none; stroke: #ff0000; stroke-width: 2; stroke-linecap: square\"/>\n   </g>\n   <g id=\"line2d_47\">\n    <path d=\"M 81.190125 276.331362 \nL 81.211827 326.986375 \nM 152.592423 326.986375 \nL 152.614125 276.332467 \nL 188.326125 276.329704 \nL 224.038125 236.554771 \nL 259.750125 238.10054 \nL 295.462125 225.813744 \nL 331.174125 218.04738 \nL 366.886125 204.083889 \nL 402.598125 198.78669 \n\" clip-path=\"url(#p8cb325f38a)\" style=\"fill: none; stroke: #0000ff; stroke-width: 2; stroke-linecap: square\"/>\n   </g>\n   <g id=\"line2d_48\">\n    <path d=\"M 81.190125 276.329151 \nL 116.902125 276.329704 \nL 152.614125 236.554771 \nL 188.326125 218.059756 \nL 224.038125 178.242299 \nL 259.750125 173.874776 \nL 295.462125 152.458711 \nL 331.174125 140.23175 \nL 366.886125 127.447704 \nL 402.598125 115.451356 \n\" clip-path=\"url(#p8cb325f38a)\" style=\"fill: none; stroke: #008000; stroke-width: 2; stroke-linecap: square\"/>\n   </g>\n   <g id=\"line2d_49\">\n    <path d=\"M 188.304424 326.986375 \nL 188.326125 276.334125 \nL 224.038125 276.325283 \nL 259.750125 251.238224 \nL 295.462125 251.234079 \nL 331.174125 236.552745 \nL 366.886125 226.141356 \nL 402.598125 218.061304 \n\" clip-path=\"url(#p8cb325f38a)\" style=\"fill: none; stroke: #bf00bf; stroke-width: 2; stroke-linecap: square\"/>\n   </g>\n   <g id=\"patch_3\">\n    <path d=\"M 45.478125 288.430125 \nL 45.478125 22.318125 \n\" style=\"fill: none; stroke: #000000; stroke-width: 0.8; stroke-linejoin: miter; stroke-linecap: square\"/>\n   </g>\n   <g id=\"patch_4\">\n    <path d=\"M 402.598125 288.430125 \nL 402.598125 22.318125 \n\" style=\"fill: none; stroke: #000000; stroke-width: 0.8; stroke-linejoin: miter; stroke-linecap: square\"/>\n   </g>\n   <g id=\"patch_5\">\n    <path d=\"M 45.478125 288.430125 \nL 402.598125 288.430125 \n\" style=\"fill: none; stroke: #000000; stroke-width: 0.8; stroke-linejoin: miter; stroke-linecap: square\"/>\n   </g>\n   <g id=\"patch_6\">\n    <path d=\"M 45.478125 22.318125 \nL 402.598125 22.318125 \n\" style=\"fill: none; stroke: #000000; stroke-width: 0.8; stroke-linejoin: miter; stroke-linecap: square\"/>\n   </g>\n   <g id=\"text_12\">\n    <!-- Matrix product -->\n    <g transform=\"translate(180.165938 16.318125)scale(0.12 -0.12)\">\n     <defs>\n      <path id=\"DejaVuSans-4d\" d=\"M 628 4666 \nL 1569 4666 \nL 2759 1491 \nL 3956 4666 \nL 4897 4666 \nL 4897 0 \nL 4281 0 \nL 4281 4097 \nL 3078 897 \nL 2444 897 \nL 1241 4097 \nL 1241 0 \nL 628 0 \nL 628 4666 \nz\n\" transform=\"scale(0.015625)\"/>\n      <path id=\"DejaVuSans-61\" d=\"M 2194 1759 \nQ 1497 1759 1228 1600 \nQ 959 1441 959 1056 \nQ 959 750 1161 570 \nQ 1363 391 1709 391 \nQ 2188 391 2477 730 \nQ 2766 1069 2766 1631 \nL 2766 1759 \nL 2194 1759 \nz\nM 3341 1997 \nL 3341 0 \nL 2766 0 \nL 2766 531 \nQ 2569 213 2275 61 \nQ 1981 -91 1556 -91 \nQ 1019 -91 701 211 \nQ 384 513 384 1019 \nQ 384 1609 779 1909 \nQ 1175 2209 1959 2209 \nL 2766 2209 \nL 2766 2266 \nQ 2766 2663 2505 2880 \nQ 2244 3097 1772 3097 \nQ 1472 3097 1187 3025 \nQ 903 2953 641 2809 \nL 641 3341 \nQ 956 3463 1253 3523 \nQ 1550 3584 1831 3584 \nQ 2591 3584 2966 3190 \nQ 3341 2797 3341 1997 \nz\n\" transform=\"scale(0.015625)\"/>\n      <path id=\"DejaVuSans-72\" d=\"M 2631 2963 \nQ 2534 3019 2420 3045 \nQ 2306 3072 2169 3072 \nQ 1681 3072 1420 2755 \nQ 1159 2438 1159 1844 \nL 1159 0 \nL 581 0 \nL 581 3500 \nL 1159 3500 \nL 1159 2956 \nQ 1341 3275 1631 3429 \nQ 1922 3584 2338 3584 \nQ 2397 3584 2469 3576 \nQ 2541 3569 2628 3553 \nL 2631 2963 \nz\n\" transform=\"scale(0.015625)\"/>\n      <path id=\"DejaVuSans-78\" d=\"M 3513 3500 \nL 2247 1797 \nL 3578 0 \nL 2900 0 \nL 1881 1375 \nL 863 0 \nL 184 0 \nL 1544 1831 \nL 300 3500 \nL 978 3500 \nL 1906 2253 \nL 2834 3500 \nL 3513 3500 \nz\n\" transform=\"scale(0.015625)\"/>\n      <path id=\"DejaVuSans-70\" d=\"M 1159 525 \nL 1159 -1331 \nL 581 -1331 \nL 581 3500 \nL 1159 3500 \nL 1159 2969 \nQ 1341 3281 1617 3432 \nQ 1894 3584 2278 3584 \nQ 2916 3584 3314 3078 \nQ 3713 2572 3713 1747 \nQ 3713 922 3314 415 \nQ 2916 -91 2278 -91 \nQ 1894 -91 1617 61 \nQ 1341 213 1159 525 \nz\nM 3116 1747 \nQ 3116 2381 2855 2742 \nQ 2594 3103 2138 3103 \nQ 1681 3103 1420 2742 \nQ 1159 2381 1159 1747 \nQ 1159 1113 1420 752 \nQ 1681 391 2138 391 \nQ 2594 391 2855 752 \nQ 3116 1113 3116 1747 \nz\n\" transform=\"scale(0.015625)\"/>\n      <path id=\"DejaVuSans-6f\" d=\"M 1959 3097 \nQ 1497 3097 1228 2736 \nQ 959 2375 959 1747 \nQ 959 1119 1226 758 \nQ 1494 397 1959 397 \nQ 2419 397 2687 759 \nQ 2956 1122 2956 1747 \nQ 2956 2369 2687 2733 \nQ 2419 3097 1959 3097 \nz\nM 1959 3584 \nQ 2709 3584 3137 3096 \nQ 3566 2609 3566 1747 \nQ 3566 888 3137 398 \nQ 2709 -91 1959 -91 \nQ 1206 -91 779 398 \nQ 353 888 353 1747 \nQ 353 2609 779 3096 \nQ 1206 3584 1959 3584 \nz\n\" transform=\"scale(0.015625)\"/>\n      <path id=\"DejaVuSans-64\" d=\"M 2906 2969 \nL 2906 4863 \nL 3481 4863 \nL 3481 0 \nL 2906 0 \nL 2906 525 \nQ 2725 213 2448 61 \nQ 2172 -91 1784 -91 \nQ 1150 -91 751 415 \nQ 353 922 353 1747 \nQ 353 2572 751 3078 \nQ 1150 3584 1784 3584 \nQ 2172 3584 2448 3432 \nQ 2725 3281 2906 2969 \nz\nM 947 1747 \nQ 947 1113 1208 752 \nQ 1469 391 1925 391 \nQ 2381 391 2643 752 \nQ 2906 1113 2906 1747 \nQ 2906 2381 2643 2742 \nQ 2381 3103 1925 3103 \nQ 1469 3103 1208 2742 \nQ 947 2381 947 1747 \nz\n\" transform=\"scale(0.015625)\"/>\n      <path id=\"DejaVuSans-75\" d=\"M 544 1381 \nL 544 3500 \nL 1119 3500 \nL 1119 1403 \nQ 1119 906 1312 657 \nQ 1506 409 1894 409 \nQ 2359 409 2629 706 \nQ 2900 1003 2900 1516 \nL 2900 3500 \nL 3475 3500 \nL 3475 0 \nL 2900 0 \nL 2900 538 \nQ 2691 219 2414 64 \nQ 2138 -91 1772 -91 \nQ 1169 -91 856 284 \nQ 544 659 544 1381 \nz\nM 1991 3584 \nL 1991 3584 \nz\n\" transform=\"scale(0.015625)\"/>\n      <path id=\"DejaVuSans-63\" d=\"M 3122 3366 \nL 3122 2828 \nQ 2878 2963 2633 3030 \nQ 2388 3097 2138 3097 \nQ 1578 3097 1268 2742 \nQ 959 2388 959 1747 \nQ 959 1106 1268 751 \nQ 1578 397 2138 397 \nQ 2388 397 2633 464 \nQ 2878 531 3122 666 \nL 3122 134 \nQ 2881 22 2623 -34 \nQ 2366 -91 2075 -91 \nQ 1284 -91 818 406 \nQ 353 903 353 1747 \nQ 353 2603 823 3093 \nQ 1294 3584 2113 3584 \nQ 2378 3584 2631 3529 \nQ 2884 3475 3122 3366 \nz\n\" transform=\"scale(0.015625)\"/>\n     </defs>\n     <use xlink:href=\"#DejaVuSans-4d\"/>\n     <use xlink:href=\"#DejaVuSans-61\" x=\"86.279297\"/>\n     <use xlink:href=\"#DejaVuSans-74\" x=\"147.558594\"/>\n     <use xlink:href=\"#DejaVuSans-72\" x=\"186.767578\"/>\n     <use xlink:href=\"#DejaVuSans-69\" x=\"227.880859\"/>\n     <use xlink:href=\"#DejaVuSans-78\" x=\"255.664062\"/>\n     <use xlink:href=\"#DejaVuSans-20\" x=\"314.84375\"/>\n     <use xlink:href=\"#DejaVuSans-70\" x=\"346.630859\"/>\n     <use xlink:href=\"#DejaVuSans-72\" x=\"410.107422\"/>\n     <use xlink:href=\"#DejaVuSans-6f\" x=\"448.970703\"/>\n     <use xlink:href=\"#DejaVuSans-64\" x=\"510.152344\"/>\n     <use xlink:href=\"#DejaVuSans-75\" x=\"573.628906\"/>\n     <use xlink:href=\"#DejaVuSans-63\" x=\"637.007812\"/>\n     <use xlink:href=\"#DejaVuSans-74\" x=\"691.988281\"/>\n    </g>\n   </g>\n   <g id=\"legend_1\">\n    <g id=\"patch_7\">\n     <path d=\"M 52.478125 89.030625 \nL 111.11875 89.030625 \nQ 113.11875 89.030625 113.11875 87.030625 \nL 113.11875 29.318125 \nQ 113.11875 27.318125 111.11875 27.318125 \nL 52.478125 27.318125 \nQ 50.478125 27.318125 50.478125 29.318125 \nL 50.478125 87.030625 \nQ 50.478125 89.030625 52.478125 89.030625 \nz\n\" style=\"fill: #ffffff; opacity: 0.8; stroke: #cccccc; stroke-linejoin: miter\"/>\n    </g>\n    <g id=\"line2d_50\">\n     <path d=\"M 54.478125 35.416562 \nL 64.478125 35.416562 \nL 74.478125 35.416562 \n\" style=\"fill: none; stroke: #ff0000; stroke-width: 2; stroke-linecap: square\"/>\n    </g>\n    <g id=\"text_13\">\n     <!-- loop -->\n     <g transform=\"translate(82.478125 38.916562)scale(0.1 -0.1)\">\n      <defs>\n       <path id=\"DejaVuSans-6c\" d=\"M 603 4863 \nL 1178 4863 \nL 1178 0 \nL 603 0 \nL 603 4863 \nz\n\" transform=\"scale(0.015625)\"/>\n      </defs>\n      <use xlink:href=\"#DejaVuSans-6c\"/>\n      <use xlink:href=\"#DejaVuSans-6f\" x=\"27.783203\"/>\n      <use xlink:href=\"#DejaVuSans-6f\" x=\"88.964844\"/>\n      <use xlink:href=\"#DejaVuSans-70\" x=\"150.146484\"/>\n     </g>\n    </g>\n    <g id=\"line2d_51\">\n     <path d=\"M 54.478125 50.094688 \nL 64.478125 50.094688 \nL 74.478125 50.094688 \n\" style=\"fill: none; stroke: #0000ff; stroke-width: 2; stroke-linecap: square\"/>\n    </g>\n    <g id=\"text_14\">\n     <!-- inner -->\n     <g transform=\"translate(82.478125 53.594688)scale(0.1 -0.1)\">\n      <defs>\n       <path id=\"DejaVuSans-6e\" d=\"M 3513 2113 \nL 3513 0 \nL 2938 0 \nL 2938 2094 \nQ 2938 2591 2744 2837 \nQ 2550 3084 2163 3084 \nQ 1697 3084 1428 2787 \nQ 1159 2491 1159 1978 \nL 1159 0 \nL 581 0 \nL 581 3500 \nL 1159 3500 \nL 1159 2956 \nQ 1366 3272 1645 3428 \nQ 1925 3584 2291 3584 \nQ 2894 3584 3203 3211 \nQ 3513 2838 3513 2113 \nz\n\" transform=\"scale(0.015625)\"/>\n      </defs>\n      <use xlink:href=\"#DejaVuSans-69\"/>\n      <use xlink:href=\"#DejaVuSans-6e\" x=\"27.783203\"/>\n      <use xlink:href=\"#DejaVuSans-6e\" x=\"91.162109\"/>\n      <use xlink:href=\"#DejaVuSans-65\" x=\"154.541016\"/>\n      <use xlink:href=\"#DejaVuSans-72\" x=\"216.064453\"/>\n     </g>\n    </g>\n    <g id=\"line2d_52\">\n     <path d=\"M 54.478125 64.772812 \nL 64.478125 64.772812 \nL 74.478125 64.772812 \n\" style=\"fill: none; stroke: #008000; stroke-width: 2; stroke-linecap: square\"/>\n    </g>\n    <g id=\"text_15\">\n     <!-- outer -->\n     <g transform=\"translate(82.478125 68.272812)scale(0.1 -0.1)\">\n      <use xlink:href=\"#DejaVuSans-6f\"/>\n      <use xlink:href=\"#DejaVuSans-75\" x=\"61.181641\"/>\n      <use xlink:href=\"#DejaVuSans-74\" x=\"124.560547\"/>\n      <use xlink:href=\"#DejaVuSans-65\" x=\"163.769531\"/>\n      <use xlink:href=\"#DejaVuSans-72\" x=\"225.292969\"/>\n     </g>\n    </g>\n    <g id=\"line2d_53\">\n     <path d=\"M 54.478125 79.450938 \nL 64.478125 79.450938 \nL 74.478125 79.450938 \n\" style=\"fill: none; stroke: #bf00bf; stroke-width: 2; stroke-linecap: square\"/>\n    </g>\n    <g id=\"text_16\">\n     <!-- np -->\n     <g transform=\"translate(82.478125 82.950938)scale(0.1 -0.1)\">\n      <use xlink:href=\"#DejaVuSans-6e\"/>\n      <use xlink:href=\"#DejaVuSans-70\" x=\"63.378906\"/>\n     </g>\n    </g>\n   </g>\n  </g>\n </g>\n <defs>\n  <clipPath id=\"p8cb325f38a\">\n   <rect x=\"45.478125\" y=\"22.318125\" width=\"357.12\" height=\"266.112\"/>\n  </clipPath>\n </defs>\n</svg>\n",
            "text/plain": "<Figure size 640x480 with 1 Axes>"
          },
          "metadata": {}
        }
      ],
      "execution_count": 28,
      "metadata": {},
      "id": "8cf24198"
    },
    {
      "cell_type": "markdown",
      "source": [
        "# My conclusions:\n",
        "I guess, from plotting we see that it's better to use built-in methods/functions from libraries, since, with them we can save our time. This is crucial in current IT world, when we must care about algoriphmic asymptotics(complexities)."
      ],
      "metadata": {},
      "id": "59b1d266"
    },
    {
      "cell_type": "markdown",
      "source": [
        "## Demo for task 1.5: dot product performance"
      ],
      "metadata": {},
      "id": "5d97ce9c"
    },
    {
      "cell_type": "markdown",
      "source": [
        "Compare several implementations of the dot product."
      ],
      "metadata": {},
      "id": "adc1ca3a"
    },
    {
      "cell_type": "code",
      "source": [
        "import numpy as np\n",
        "\n",
        "def dot_loop(a, b):\n",
        "    result = 0\n",
        "    for i in range(len(a)):\n",
        "        result += a[i] * b[i]\n",
        "    return result\n",
        "\n",
        "def dot_sum(a, b):\n",
        "    return sum(a * b)\n",
        "\n",
        "def dot_np(a, b):\n",
        "    return a @ b"
      ],
      "outputs": [],
      "execution_count": 4,
      "metadata": {},
      "id": "5c17110c"
    },
    {
      "cell_type": "markdown",
      "source": [
        "Test that all this functions produce the same result:"
      ],
      "metadata": {},
      "id": "7fd21677"
    },
    {
      "cell_type": "code",
      "source": [
        "for n in range(1, 101):\n",
        "    a = np.random.randn(n)\n",
        "    b = np.random.randn(n)\n",
        "    assert np.allclose(dot_loop(a, b), dot_sum(a, b))\n",
        "    assert np.allclose(dot_loop(a, b), dot_np(a, b))\n",
        "    assert np.allclose(dot_np(a, b), dot_sum(a, b))"
      ],
      "outputs": [],
      "execution_count": 5,
      "metadata": {},
      "id": "c6df5699"
    },
    {
      "cell_type": "markdown",
      "source": [
        "Measure performance:"
      ],
      "metadata": {},
      "id": "03849c88"
    },
    {
      "cell_type": "code",
      "source": [
        "n = 1000\n",
        "a = np.random.randn(n)\n",
        "b = np.random.randn(n)"
      ],
      "outputs": [],
      "execution_count": 6,
      "metadata": {},
      "id": "6d1bf14d"
    },
    {
      "cell_type": "code",
      "source": [
        "%%timeit\n",
        "dot_loop(a, b)"
      ],
      "outputs": [
        {
          "output_type": "stream",
          "name": "stdout",
          "text": "2.6 ms ± 689 µs per loop (mean ± std. dev. of 7 runs, 100 loops each)\n"
        }
      ],
      "execution_count": 7,
      "metadata": {},
      "id": "0454edf8"
    },
    {
      "cell_type": "code",
      "source": [
        "%%timeit\n",
        "dot_sum(a, b)"
      ],
      "outputs": [
        {
          "output_type": "stream",
          "name": "stdout",
          "text": "111 µs ± 12 µs per loop (mean ± std. dev. of 7 runs, 10,000 loops each)\n"
        }
      ],
      "execution_count": 8,
      "metadata": {},
      "id": "ace580b5"
    },
    {
      "cell_type": "code",
      "source": [
        "%%timeit\n",
        "dot_np(a, b)"
      ],
      "outputs": [
        {
          "output_type": "stream",
          "name": "stdout",
          "text": "2.33 µs ± 466 ns per loop (mean ± std. dev. of 7 runs, 100,000 loops each)\n"
        }
      ],
      "execution_count": 7,
      "metadata": {},
      "id": "e64b288e"
    },
    {
      "cell_type": "markdown",
      "source": [
        "This is why you should almost always prefer `numpy` to pythonic loops! To emphasize this effect, plot the graphs of execution time versus array size."
      ],
      "metadata": {},
      "id": "b284da98"
    },
    {
      "cell_type": "code",
      "source": [
        "import matplotlib.pyplot as plt\n",
        "from time import time\n",
        "\n",
        "%config InlineBackend.figure_format = 'svg'\n",
        "\n",
        "def measure_time(func, size, n_samples=10):\n",
        "    result = np.zeros(n_samples)\n",
        "    for i in range(n_samples):\n",
        "        begin = time()\n",
        "        func(np.random.randn(size), np.random.randn(size))\n",
        "        result[i] = time() - begin\n",
        "    return result.mean()\n",
        "\n",
        "def get_times_lists(func, step=20, max_size=1000, n_samples=20):\n",
        "    times = []\n",
        "    sizes = np.arange(20, max_size + 1, 20)\n",
        "    for size in sizes:\n",
        "        times.append(measure_time(func, size, n_samples))\n",
        "    return np.array(times)\n",
        "\n",
        "def plot_time_vs_size(step=20, max_size=1000, n_samples=50):\n",
        "    loop_times = 1000*get_times_lists(dot_loop, step, max_size, n_samples)\n",
        "    sum_times = 1000*get_times_lists(dot_sum, step, max_size, n_samples)\n",
        "    np_times = 1000*get_times_lists(dot_np, step, max_size, n_samples)\n",
        "    sizes = np.arange(step, max_size + 1, step)\n",
        "    plt.plot(sizes, loop_times, c='r', lw=2, label=\"loop\")\n",
        "    plt.plot(sizes, sum_times, c='b', lw=2, label=\"sum\")\n",
        "    plt.plot(sizes, np_times, c='g', lw=2, label=\"np\")\n",
        "    plt.xlim(0, max_size)\n",
        "    plt.title(\"Dot product\")\n",
        "    plt.legend()\n",
        "    plt.xlabel(\"size\")\n",
        "    plt.ylabel(\"time, ms\")\n",
        "    plt.grid(ls=\":\");"
      ],
      "outputs": [],
      "execution_count": 22,
      "metadata": {},
      "id": "dfbd4b32"
    },
    {
      "cell_type": "code",
      "source": [
        "plot_time_vs_size()"
      ],
      "outputs": [
        {
          "output_type": "display_data",
          "data": {
            "image/svg+xml": "<?xml version=\"1.0\" encoding=\"utf-8\" standalone=\"no\"?>\n<!DOCTYPE svg PUBLIC \"-//W3C//DTD SVG 1.1//EN\"\n  \"http://www.w3.org/Graphics/SVG/1.1/DTD/svg11.dtd\">\n<svg xmlns:xlink=\"http://www.w3.org/1999/xlink\" width=\"420.82625pt\" height=\"325.986375pt\" viewBox=\"0 0 420.82625 325.986375\" xmlns=\"http://www.w3.org/2000/svg\" version=\"1.1\">\n <metadata>\n  <rdf:RDF xmlns:dc=\"http://purl.org/dc/elements/1.1/\" xmlns:cc=\"http://creativecommons.org/ns#\" xmlns:rdf=\"http://www.w3.org/1999/02/22-rdf-syntax-ns#\">\n   <cc:Work>\n    <dc:type rdf:resource=\"http://purl.org/dc/dcmitype/StillImage\"/>\n    <dc:date>2024-01-24T11:19:06.317418</dc:date>\n    <dc:format>image/svg+xml</dc:format>\n    <dc:creator>\n     <cc:Agent>\n      <dc:title>Matplotlib v3.7.1, https://matplotlib.org/</dc:title>\n     </cc:Agent>\n    </dc:creator>\n   </cc:Work>\n  </rdf:RDF>\n </metadata>\n <defs>\n  <style type=\"text/css\">*{stroke-linejoin: round; stroke-linecap: butt}</style>\n </defs>\n <g id=\"figure_1\">\n  <g id=\"patch_1\">\n   <path d=\"M 0 325.986375 \nL 420.82625 325.986375 \nL 420.82625 0 \nL 0 0 \nz\n\" style=\"fill: #ffffff\"/>\n  </g>\n  <g id=\"axes_1\">\n   <g id=\"patch_2\">\n    <path d=\"M 43.78125 288.430125 \nL 400.90125 288.430125 \nL 400.90125 22.318125 \nL 43.78125 22.318125 \nz\n\" style=\"fill: #ffffff\"/>\n   </g>\n   <g id=\"matplotlib.axis_1\">\n    <g id=\"xtick_1\">\n     <g id=\"line2d_1\">\n      <path d=\"M 43.78125 288.430125 \nL 43.78125 22.318125 \n\" clip-path=\"url(#pcefc228c25)\" style=\"fill: none; stroke-dasharray: 0.8,1.32; stroke-dashoffset: 0; stroke: #b0b0b0; stroke-width: 0.8\"/>\n     </g>\n     <g id=\"line2d_2\">\n      <defs>\n       <path id=\"mda157c041b\" d=\"M 0 0 \nL 0 3.5 \n\" style=\"stroke: #000000; stroke-width: 0.8\"/>\n      </defs>\n      <g>\n       <use xlink:href=\"#mda157c041b\" x=\"43.78125\" y=\"288.430125\" style=\"stroke: #000000; stroke-width: 0.8\"/>\n      </g>\n     </g>\n     <g id=\"text_1\">\n      <!-- 0 -->\n      <g transform=\"translate(40.6 303.028562) scale(0.1 -0.1)\">\n       <defs>\n        <path id=\"DejaVuSans-30\" d=\"M 2034 4250 \nQ 1547 4250 1301 3770 \nQ 1056 3291 1056 2328 \nQ 1056 1369 1301 889 \nQ 1547 409 2034 409 \nQ 2525 409 2770 889 \nQ 3016 1369 3016 2328 \nQ 3016 3291 2770 3770 \nQ 2525 4250 2034 4250 \nz\nM 2034 4750 \nQ 2819 4750 3233 4129 \nQ 3647 3509 3647 2328 \nQ 3647 1150 3233 529 \nQ 2819 -91 2034 -91 \nQ 1250 -91 836 529 \nQ 422 1150 422 2328 \nQ 422 3509 836 4129 \nQ 1250 4750 2034 4750 \nz\n\" transform=\"scale(0.015625)\"/>\n       </defs>\n       <use xlink:href=\"#DejaVuSans-30\"/>\n      </g>\n     </g>\n    </g>\n    <g id=\"xtick_2\">\n     <g id=\"line2d_3\">\n      <path d=\"M 115.20525 288.430125 \nL 115.20525 22.318125 \n\" clip-path=\"url(#pcefc228c25)\" style=\"fill: none; stroke-dasharray: 0.8,1.32; stroke-dashoffset: 0; stroke: #b0b0b0; stroke-width: 0.8\"/>\n     </g>\n     <g id=\"line2d_4\">\n      <g>\n       <use xlink:href=\"#mda157c041b\" x=\"115.20525\" y=\"288.430125\" style=\"stroke: #000000; stroke-width: 0.8\"/>\n      </g>\n     </g>\n     <g id=\"text_2\">\n      <!-- 200 -->\n      <g transform=\"translate(105.6615 303.028562) scale(0.1 -0.1)\">\n       <defs>\n        <path id=\"DejaVuSans-32\" d=\"M 1228 531 \nL 3431 531 \nL 3431 0 \nL 469 0 \nL 469 531 \nQ 828 903 1448 1529 \nQ 2069 2156 2228 2338 \nQ 2531 2678 2651 2914 \nQ 2772 3150 2772 3378 \nQ 2772 3750 2511 3984 \nQ 2250 4219 1831 4219 \nQ 1534 4219 1204 4116 \nQ 875 4013 500 3803 \nL 500 4441 \nQ 881 4594 1212 4672 \nQ 1544 4750 1819 4750 \nQ 2544 4750 2975 4387 \nQ 3406 4025 3406 3419 \nQ 3406 3131 3298 2873 \nQ 3191 2616 2906 2266 \nQ 2828 2175 2409 1742 \nQ 1991 1309 1228 531 \nz\n\" transform=\"scale(0.015625)\"/>\n       </defs>\n       <use xlink:href=\"#DejaVuSans-32\"/>\n       <use xlink:href=\"#DejaVuSans-30\" x=\"63.623047\"/>\n       <use xlink:href=\"#DejaVuSans-30\" x=\"127.246094\"/>\n      </g>\n     </g>\n    </g>\n    <g id=\"xtick_3\">\n     <g id=\"line2d_5\">\n      <path d=\"M 186.62925 288.430125 \nL 186.62925 22.318125 \n\" clip-path=\"url(#pcefc228c25)\" style=\"fill: none; stroke-dasharray: 0.8,1.32; stroke-dashoffset: 0; stroke: #b0b0b0; stroke-width: 0.8\"/>\n     </g>\n     <g id=\"line2d_6\">\n      <g>\n       <use xlink:href=\"#mda157c041b\" x=\"186.62925\" y=\"288.430125\" style=\"stroke: #000000; stroke-width: 0.8\"/>\n      </g>\n     </g>\n     <g id=\"text_3\">\n      <!-- 400 -->\n      <g transform=\"translate(177.0855 303.028562) scale(0.1 -0.1)\">\n       <defs>\n        <path id=\"DejaVuSans-34\" d=\"M 2419 4116 \nL 825 1625 \nL 2419 1625 \nL 2419 4116 \nz\nM 2253 4666 \nL 3047 4666 \nL 3047 1625 \nL 3713 1625 \nL 3713 1100 \nL 3047 1100 \nL 3047 0 \nL 2419 0 \nL 2419 1100 \nL 313 1100 \nL 313 1709 \nL 2253 4666 \nz\n\" transform=\"scale(0.015625)\"/>\n       </defs>\n       <use xlink:href=\"#DejaVuSans-34\"/>\n       <use xlink:href=\"#DejaVuSans-30\" x=\"63.623047\"/>\n       <use xlink:href=\"#DejaVuSans-30\" x=\"127.246094\"/>\n      </g>\n     </g>\n    </g>\n    <g id=\"xtick_4\">\n     <g id=\"line2d_7\">\n      <path d=\"M 258.05325 288.430125 \nL 258.05325 22.318125 \n\" clip-path=\"url(#pcefc228c25)\" style=\"fill: none; stroke-dasharray: 0.8,1.32; stroke-dashoffset: 0; stroke: #b0b0b0; stroke-width: 0.8\"/>\n     </g>\n     <g id=\"line2d_8\">\n      <g>\n       <use xlink:href=\"#mda157c041b\" x=\"258.05325\" y=\"288.430125\" style=\"stroke: #000000; stroke-width: 0.8\"/>\n      </g>\n     </g>\n     <g id=\"text_4\">\n      <!-- 600 -->\n      <g transform=\"translate(248.5095 303.028562) scale(0.1 -0.1)\">\n       <defs>\n        <path id=\"DejaVuSans-36\" d=\"M 2113 2584 \nQ 1688 2584 1439 2293 \nQ 1191 2003 1191 1497 \nQ 1191 994 1439 701 \nQ 1688 409 2113 409 \nQ 2538 409 2786 701 \nQ 3034 994 3034 1497 \nQ 3034 2003 2786 2293 \nQ 2538 2584 2113 2584 \nz\nM 3366 4563 \nL 3366 3988 \nQ 3128 4100 2886 4159 \nQ 2644 4219 2406 4219 \nQ 1781 4219 1451 3797 \nQ 1122 3375 1075 2522 \nQ 1259 2794 1537 2939 \nQ 1816 3084 2150 3084 \nQ 2853 3084 3261 2657 \nQ 3669 2231 3669 1497 \nQ 3669 778 3244 343 \nQ 2819 -91 2113 -91 \nQ 1303 -91 875 529 \nQ 447 1150 447 2328 \nQ 447 3434 972 4092 \nQ 1497 4750 2381 4750 \nQ 2619 4750 2861 4703 \nQ 3103 4656 3366 4563 \nz\n\" transform=\"scale(0.015625)\"/>\n       </defs>\n       <use xlink:href=\"#DejaVuSans-36\"/>\n       <use xlink:href=\"#DejaVuSans-30\" x=\"63.623047\"/>\n       <use xlink:href=\"#DejaVuSans-30\" x=\"127.246094\"/>\n      </g>\n     </g>\n    </g>\n    <g id=\"xtick_5\">\n     <g id=\"line2d_9\">\n      <path d=\"M 329.47725 288.430125 \nL 329.47725 22.318125 \n\" clip-path=\"url(#pcefc228c25)\" style=\"fill: none; stroke-dasharray: 0.8,1.32; stroke-dashoffset: 0; stroke: #b0b0b0; stroke-width: 0.8\"/>\n     </g>\n     <g id=\"line2d_10\">\n      <g>\n       <use xlink:href=\"#mda157c041b\" x=\"329.47725\" y=\"288.430125\" style=\"stroke: #000000; stroke-width: 0.8\"/>\n      </g>\n     </g>\n     <g id=\"text_5\">\n      <!-- 800 -->\n      <g transform=\"translate(319.9335 303.028562) scale(0.1 -0.1)\">\n       <defs>\n        <path id=\"DejaVuSans-38\" d=\"M 2034 2216 \nQ 1584 2216 1326 1975 \nQ 1069 1734 1069 1313 \nQ 1069 891 1326 650 \nQ 1584 409 2034 409 \nQ 2484 409 2743 651 \nQ 3003 894 3003 1313 \nQ 3003 1734 2745 1975 \nQ 2488 2216 2034 2216 \nz\nM 1403 2484 \nQ 997 2584 770 2862 \nQ 544 3141 544 3541 \nQ 544 4100 942 4425 \nQ 1341 4750 2034 4750 \nQ 2731 4750 3128 4425 \nQ 3525 4100 3525 3541 \nQ 3525 3141 3298 2862 \nQ 3072 2584 2669 2484 \nQ 3125 2378 3379 2068 \nQ 3634 1759 3634 1313 \nQ 3634 634 3220 271 \nQ 2806 -91 2034 -91 \nQ 1263 -91 848 271 \nQ 434 634 434 1313 \nQ 434 1759 690 2068 \nQ 947 2378 1403 2484 \nz\nM 1172 3481 \nQ 1172 3119 1398 2916 \nQ 1625 2713 2034 2713 \nQ 2441 2713 2670 2916 \nQ 2900 3119 2900 3481 \nQ 2900 3844 2670 4047 \nQ 2441 4250 2034 4250 \nQ 1625 4250 1398 4047 \nQ 1172 3844 1172 3481 \nz\n\" transform=\"scale(0.015625)\"/>\n       </defs>\n       <use xlink:href=\"#DejaVuSans-38\"/>\n       <use xlink:href=\"#DejaVuSans-30\" x=\"63.623047\"/>\n       <use xlink:href=\"#DejaVuSans-30\" x=\"127.246094\"/>\n      </g>\n     </g>\n    </g>\n    <g id=\"xtick_6\">\n     <g id=\"line2d_11\">\n      <path d=\"M 400.90125 288.430125 \nL 400.90125 22.318125 \n\" clip-path=\"url(#pcefc228c25)\" style=\"fill: none; stroke-dasharray: 0.8,1.32; stroke-dashoffset: 0; stroke: #b0b0b0; stroke-width: 0.8\"/>\n     </g>\n     <g id=\"line2d_12\">\n      <g>\n       <use xlink:href=\"#mda157c041b\" x=\"400.90125\" y=\"288.430125\" style=\"stroke: #000000; stroke-width: 0.8\"/>\n      </g>\n     </g>\n     <g id=\"text_6\">\n      <!-- 1000 -->\n      <g transform=\"translate(388.17625 303.028562) scale(0.1 -0.1)\">\n       <defs>\n        <path id=\"DejaVuSans-31\" d=\"M 794 531 \nL 1825 531 \nL 1825 4091 \nL 703 3866 \nL 703 4441 \nL 1819 4666 \nL 2450 4666 \nL 2450 531 \nL 3481 531 \nL 3481 0 \nL 794 0 \nL 794 531 \nz\n\" transform=\"scale(0.015625)\"/>\n       </defs>\n       <use xlink:href=\"#DejaVuSans-31\"/>\n       <use xlink:href=\"#DejaVuSans-30\" x=\"63.623047\"/>\n       <use xlink:href=\"#DejaVuSans-30\" x=\"127.246094\"/>\n       <use xlink:href=\"#DejaVuSans-30\" x=\"190.869141\"/>\n      </g>\n     </g>\n    </g>\n    <g id=\"text_7\">\n     <!-- size -->\n     <g transform=\"translate(212.646719 316.706687) scale(0.1 -0.1)\">\n      <defs>\n       <path id=\"DejaVuSans-73\" d=\"M 2834 3397 \nL 2834 2853 \nQ 2591 2978 2328 3040 \nQ 2066 3103 1784 3103 \nQ 1356 3103 1142 2972 \nQ 928 2841 928 2578 \nQ 928 2378 1081 2264 \nQ 1234 2150 1697 2047 \nL 1894 2003 \nQ 2506 1872 2764 1633 \nQ 3022 1394 3022 966 \nQ 3022 478 2636 193 \nQ 2250 -91 1575 -91 \nQ 1294 -91 989 -36 \nQ 684 19 347 128 \nL 347 722 \nQ 666 556 975 473 \nQ 1284 391 1588 391 \nQ 1994 391 2212 530 \nQ 2431 669 2431 922 \nQ 2431 1156 2273 1281 \nQ 2116 1406 1581 1522 \nL 1381 1569 \nQ 847 1681 609 1914 \nQ 372 2147 372 2553 \nQ 372 3047 722 3315 \nQ 1072 3584 1716 3584 \nQ 2034 3584 2315 3537 \nQ 2597 3491 2834 3397 \nz\n\" transform=\"scale(0.015625)\"/>\n       <path id=\"DejaVuSans-69\" d=\"M 603 3500 \nL 1178 3500 \nL 1178 0 \nL 603 0 \nL 603 3500 \nz\nM 603 4863 \nL 1178 4863 \nL 1178 4134 \nL 603 4134 \nL 603 4863 \nz\n\" transform=\"scale(0.015625)\"/>\n       <path id=\"DejaVuSans-7a\" d=\"M 353 3500 \nL 3084 3500 \nL 3084 2975 \nL 922 459 \nL 3084 459 \nL 3084 0 \nL 275 0 \nL 275 525 \nL 2438 3041 \nL 353 3041 \nL 353 3500 \nz\n\" transform=\"scale(0.015625)\"/>\n       <path id=\"DejaVuSans-65\" d=\"M 3597 1894 \nL 3597 1613 \nL 953 1613 \nQ 991 1019 1311 708 \nQ 1631 397 2203 397 \nQ 2534 397 2845 478 \nQ 3156 559 3463 722 \nL 3463 178 \nQ 3153 47 2828 -22 \nQ 2503 -91 2169 -91 \nQ 1331 -91 842 396 \nQ 353 884 353 1716 \nQ 353 2575 817 3079 \nQ 1281 3584 2069 3584 \nQ 2775 3584 3186 3129 \nQ 3597 2675 3597 1894 \nz\nM 3022 2063 \nQ 3016 2534 2758 2815 \nQ 2500 3097 2075 3097 \nQ 1594 3097 1305 2825 \nQ 1016 2553 972 2059 \nL 3022 2063 \nz\n\" transform=\"scale(0.015625)\"/>\n      </defs>\n      <use xlink:href=\"#DejaVuSans-73\"/>\n      <use xlink:href=\"#DejaVuSans-69\" x=\"52.099609\"/>\n      <use xlink:href=\"#DejaVuSans-7a\" x=\"79.882812\"/>\n      <use xlink:href=\"#DejaVuSans-65\" x=\"132.373047\"/>\n     </g>\n    </g>\n   </g>\n   <g id=\"matplotlib.axis_2\">\n    <g id=\"ytick_1\">\n     <g id=\"line2d_13\">\n      <path d=\"M 43.78125 278.407835 \nL 400.90125 278.407835 \n\" clip-path=\"url(#pcefc228c25)\" style=\"fill: none; stroke-dasharray: 0.8,1.32; stroke-dashoffset: 0; stroke: #b0b0b0; stroke-width: 0.8\"/>\n     </g>\n     <g id=\"line2d_14\">\n      <defs>\n       <path id=\"m0286c70766\" d=\"M 0 0 \nL -3.5 0 \n\" style=\"stroke: #000000; stroke-width: 0.8\"/>\n      </defs>\n      <g>\n       <use xlink:href=\"#m0286c70766\" x=\"43.78125\" y=\"278.407835\" style=\"stroke: #000000; stroke-width: 0.8\"/>\n      </g>\n     </g>\n     <g id=\"text_8\">\n      <!-- 0.0 -->\n      <g transform=\"translate(20.878125 282.207054) scale(0.1 -0.1)\">\n       <defs>\n        <path id=\"DejaVuSans-2e\" d=\"M 684 794 \nL 1344 794 \nL 1344 0 \nL 684 0 \nL 684 794 \nz\n\" transform=\"scale(0.015625)\"/>\n       </defs>\n       <use xlink:href=\"#DejaVuSans-30\"/>\n       <use xlink:href=\"#DejaVuSans-2e\" x=\"63.623047\"/>\n       <use xlink:href=\"#DejaVuSans-30\" x=\"95.410156\"/>\n      </g>\n     </g>\n    </g>\n    <g id=\"ytick_2\">\n     <g id=\"line2d_15\">\n      <path d=\"M 43.78125 246.098138 \nL 400.90125 246.098138 \n\" clip-path=\"url(#pcefc228c25)\" style=\"fill: none; stroke-dasharray: 0.8,1.32; stroke-dashoffset: 0; stroke: #b0b0b0; stroke-width: 0.8\"/>\n     </g>\n     <g id=\"line2d_16\">\n      <g>\n       <use xlink:href=\"#m0286c70766\" x=\"43.78125\" y=\"246.098138\" style=\"stroke: #000000; stroke-width: 0.8\"/>\n      </g>\n     </g>\n     <g id=\"text_9\">\n      <!-- 0.1 -->\n      <g transform=\"translate(20.878125 249.897357) scale(0.1 -0.1)\">\n       <use xlink:href=\"#DejaVuSans-30\"/>\n       <use xlink:href=\"#DejaVuSans-2e\" x=\"63.623047\"/>\n       <use xlink:href=\"#DejaVuSans-31\" x=\"95.410156\"/>\n      </g>\n     </g>\n    </g>\n    <g id=\"ytick_3\">\n     <g id=\"line2d_17\">\n      <path d=\"M 43.78125 213.788442 \nL 400.90125 213.788442 \n\" clip-path=\"url(#pcefc228c25)\" style=\"fill: none; stroke-dasharray: 0.8,1.32; stroke-dashoffset: 0; stroke: #b0b0b0; stroke-width: 0.8\"/>\n     </g>\n     <g id=\"line2d_18\">\n      <g>\n       <use xlink:href=\"#m0286c70766\" x=\"43.78125\" y=\"213.788442\" style=\"stroke: #000000; stroke-width: 0.8\"/>\n      </g>\n     </g>\n     <g id=\"text_10\">\n      <!-- 0.2 -->\n      <g transform=\"translate(20.878125 217.58766) scale(0.1 -0.1)\">\n       <use xlink:href=\"#DejaVuSans-30\"/>\n       <use xlink:href=\"#DejaVuSans-2e\" x=\"63.623047\"/>\n       <use xlink:href=\"#DejaVuSans-32\" x=\"95.410156\"/>\n      </g>\n     </g>\n    </g>\n    <g id=\"ytick_4\">\n     <g id=\"line2d_19\">\n      <path d=\"M 43.78125 181.478745 \nL 400.90125 181.478745 \n\" clip-path=\"url(#pcefc228c25)\" style=\"fill: none; stroke-dasharray: 0.8,1.32; stroke-dashoffset: 0; stroke: #b0b0b0; stroke-width: 0.8\"/>\n     </g>\n     <g id=\"line2d_20\">\n      <g>\n       <use xlink:href=\"#m0286c70766\" x=\"43.78125\" y=\"181.478745\" style=\"stroke: #000000; stroke-width: 0.8\"/>\n      </g>\n     </g>\n     <g id=\"text_11\">\n      <!-- 0.3 -->\n      <g transform=\"translate(20.878125 185.277964) scale(0.1 -0.1)\">\n       <defs>\n        <path id=\"DejaVuSans-33\" d=\"M 2597 2516 \nQ 3050 2419 3304 2112 \nQ 3559 1806 3559 1356 \nQ 3559 666 3084 287 \nQ 2609 -91 1734 -91 \nQ 1441 -91 1130 -33 \nQ 819 25 488 141 \nL 488 750 \nQ 750 597 1062 519 \nQ 1375 441 1716 441 \nQ 2309 441 2620 675 \nQ 2931 909 2931 1356 \nQ 2931 1769 2642 2001 \nQ 2353 2234 1838 2234 \nL 1294 2234 \nL 1294 2753 \nL 1863 2753 \nQ 2328 2753 2575 2939 \nQ 2822 3125 2822 3475 \nQ 2822 3834 2567 4026 \nQ 2313 4219 1838 4219 \nQ 1578 4219 1281 4162 \nQ 984 4106 628 3988 \nL 628 4550 \nQ 988 4650 1302 4700 \nQ 1616 4750 1894 4750 \nQ 2613 4750 3031 4423 \nQ 3450 4097 3450 3541 \nQ 3450 3153 3228 2886 \nQ 3006 2619 2597 2516 \nz\n\" transform=\"scale(0.015625)\"/>\n       </defs>\n       <use xlink:href=\"#DejaVuSans-30\"/>\n       <use xlink:href=\"#DejaVuSans-2e\" x=\"63.623047\"/>\n       <use xlink:href=\"#DejaVuSans-33\" x=\"95.410156\"/>\n      </g>\n     </g>\n    </g>\n    <g id=\"ytick_5\">\n     <g id=\"line2d_21\">\n      <path d=\"M 43.78125 149.169048 \nL 400.90125 149.169048 \n\" clip-path=\"url(#pcefc228c25)\" style=\"fill: none; stroke-dasharray: 0.8,1.32; stroke-dashoffset: 0; stroke: #b0b0b0; stroke-width: 0.8\"/>\n     </g>\n     <g id=\"line2d_22\">\n      <g>\n       <use xlink:href=\"#m0286c70766\" x=\"43.78125\" y=\"149.169048\" style=\"stroke: #000000; stroke-width: 0.8\"/>\n      </g>\n     </g>\n     <g id=\"text_12\">\n      <!-- 0.4 -->\n      <g transform=\"translate(20.878125 152.968267) scale(0.1 -0.1)\">\n       <use xlink:href=\"#DejaVuSans-30\"/>\n       <use xlink:href=\"#DejaVuSans-2e\" x=\"63.623047\"/>\n       <use xlink:href=\"#DejaVuSans-34\" x=\"95.410156\"/>\n      </g>\n     </g>\n    </g>\n    <g id=\"ytick_6\">\n     <g id=\"line2d_23\">\n      <path d=\"M 43.78125 116.859352 \nL 400.90125 116.859352 \n\" clip-path=\"url(#pcefc228c25)\" style=\"fill: none; stroke-dasharray: 0.8,1.32; stroke-dashoffset: 0; stroke: #b0b0b0; stroke-width: 0.8\"/>\n     </g>\n     <g id=\"line2d_24\">\n      <g>\n       <use xlink:href=\"#m0286c70766\" x=\"43.78125\" y=\"116.859352\" style=\"stroke: #000000; stroke-width: 0.8\"/>\n      </g>\n     </g>\n     <g id=\"text_13\">\n      <!-- 0.5 -->\n      <g transform=\"translate(20.878125 120.65857) scale(0.1 -0.1)\">\n       <defs>\n        <path id=\"DejaVuSans-35\" d=\"M 691 4666 \nL 3169 4666 \nL 3169 4134 \nL 1269 4134 \nL 1269 2991 \nQ 1406 3038 1543 3061 \nQ 1681 3084 1819 3084 \nQ 2600 3084 3056 2656 \nQ 3513 2228 3513 1497 \nQ 3513 744 3044 326 \nQ 2575 -91 1722 -91 \nQ 1428 -91 1123 -41 \nQ 819 9 494 109 \nL 494 744 \nQ 775 591 1075 516 \nQ 1375 441 1709 441 \nQ 2250 441 2565 725 \nQ 2881 1009 2881 1497 \nQ 2881 1984 2565 2268 \nQ 2250 2553 1709 2553 \nQ 1456 2553 1204 2497 \nQ 953 2441 691 2322 \nL 691 4666 \nz\n\" transform=\"scale(0.015625)\"/>\n       </defs>\n       <use xlink:href=\"#DejaVuSans-30\"/>\n       <use xlink:href=\"#DejaVuSans-2e\" x=\"63.623047\"/>\n       <use xlink:href=\"#DejaVuSans-35\" x=\"95.410156\"/>\n      </g>\n     </g>\n    </g>\n    <g id=\"ytick_7\">\n     <g id=\"line2d_25\">\n      <path d=\"M 43.78125 84.549655 \nL 400.90125 84.549655 \n\" clip-path=\"url(#pcefc228c25)\" style=\"fill: none; stroke-dasharray: 0.8,1.32; stroke-dashoffset: 0; stroke: #b0b0b0; stroke-width: 0.8\"/>\n     </g>\n     <g id=\"line2d_26\">\n      <g>\n       <use xlink:href=\"#m0286c70766\" x=\"43.78125\" y=\"84.549655\" style=\"stroke: #000000; stroke-width: 0.8\"/>\n      </g>\n     </g>\n     <g id=\"text_14\">\n      <!-- 0.6 -->\n      <g transform=\"translate(20.878125 88.348874) scale(0.1 -0.1)\">\n       <use xlink:href=\"#DejaVuSans-30\"/>\n       <use xlink:href=\"#DejaVuSans-2e\" x=\"63.623047\"/>\n       <use xlink:href=\"#DejaVuSans-36\" x=\"95.410156\"/>\n      </g>\n     </g>\n    </g>\n    <g id=\"ytick_8\">\n     <g id=\"line2d_27\">\n      <path d=\"M 43.78125 52.239958 \nL 400.90125 52.239958 \n\" clip-path=\"url(#pcefc228c25)\" style=\"fill: none; stroke-dasharray: 0.8,1.32; stroke-dashoffset: 0; stroke: #b0b0b0; stroke-width: 0.8\"/>\n     </g>\n     <g id=\"line2d_28\">\n      <g>\n       <use xlink:href=\"#m0286c70766\" x=\"43.78125\" y=\"52.239958\" style=\"stroke: #000000; stroke-width: 0.8\"/>\n      </g>\n     </g>\n     <g id=\"text_15\">\n      <!-- 0.7 -->\n      <g transform=\"translate(20.878125 56.039177) scale(0.1 -0.1)\">\n       <defs>\n        <path id=\"DejaVuSans-37\" d=\"M 525 4666 \nL 3525 4666 \nL 3525 4397 \nL 1831 0 \nL 1172 0 \nL 2766 4134 \nL 525 4134 \nL 525 4666 \nz\n\" transform=\"scale(0.015625)\"/>\n       </defs>\n       <use xlink:href=\"#DejaVuSans-30\"/>\n       <use xlink:href=\"#DejaVuSans-2e\" x=\"63.623047\"/>\n       <use xlink:href=\"#DejaVuSans-37\" x=\"95.410156\"/>\n      </g>\n     </g>\n    </g>\n    <g id=\"text_16\">\n     <!-- time, ms -->\n     <g transform=\"translate(14.798438 177.323344) rotate(-90) scale(0.1 -0.1)\">\n      <defs>\n       <path id=\"DejaVuSans-74\" d=\"M 1172 4494 \nL 1172 3500 \nL 2356 3500 \nL 2356 3053 \nL 1172 3053 \nL 1172 1153 \nQ 1172 725 1289 603 \nQ 1406 481 1766 481 \nL 2356 481 \nL 2356 0 \nL 1766 0 \nQ 1100 0 847 248 \nQ 594 497 594 1153 \nL 594 3053 \nL 172 3053 \nL 172 3500 \nL 594 3500 \nL 594 4494 \nL 1172 4494 \nz\n\" transform=\"scale(0.015625)\"/>\n       <path id=\"DejaVuSans-6d\" d=\"M 3328 2828 \nQ 3544 3216 3844 3400 \nQ 4144 3584 4550 3584 \nQ 5097 3584 5394 3201 \nQ 5691 2819 5691 2113 \nL 5691 0 \nL 5113 0 \nL 5113 2094 \nQ 5113 2597 4934 2840 \nQ 4756 3084 4391 3084 \nQ 3944 3084 3684 2787 \nQ 3425 2491 3425 1978 \nL 3425 0 \nL 2847 0 \nL 2847 2094 \nQ 2847 2600 2669 2842 \nQ 2491 3084 2119 3084 \nQ 1678 3084 1418 2786 \nQ 1159 2488 1159 1978 \nL 1159 0 \nL 581 0 \nL 581 3500 \nL 1159 3500 \nL 1159 2956 \nQ 1356 3278 1631 3431 \nQ 1906 3584 2284 3584 \nQ 2666 3584 2933 3390 \nQ 3200 3197 3328 2828 \nz\n\" transform=\"scale(0.015625)\"/>\n       <path id=\"DejaVuSans-2c\" d=\"M 750 794 \nL 1409 794 \nL 1409 256 \nL 897 -744 \nL 494 -744 \nL 750 256 \nL 750 794 \nz\n\" transform=\"scale(0.015625)\"/>\n       <path id=\"DejaVuSans-20\" transform=\"scale(0.015625)\"/>\n      </defs>\n      <use xlink:href=\"#DejaVuSans-74\"/>\n      <use xlink:href=\"#DejaVuSans-69\" x=\"39.208984\"/>\n      <use xlink:href=\"#DejaVuSans-6d\" x=\"66.992188\"/>\n      <use xlink:href=\"#DejaVuSans-65\" x=\"164.404297\"/>\n      <use xlink:href=\"#DejaVuSans-2c\" x=\"225.927734\"/>\n      <use xlink:href=\"#DejaVuSans-20\" x=\"257.714844\"/>\n      <use xlink:href=\"#DejaVuSans-6d\" x=\"289.501953\"/>\n      <use xlink:href=\"#DejaVuSans-73\" x=\"386.914062\"/>\n     </g>\n    </g>\n   </g>\n   <g id=\"line2d_29\">\n    <path d=\"M 50.92365 268.926697 \nL 58.06605 251.05828 \nL 65.20845 224.337309 \nL 72.35085 231.44277 \nL 79.49325 257.783202 \nL 86.63565 239.333961 \nL 93.77805 259.01726 \nL 100.92045 247.044896 \nL 108.06285 228.230523 \nL 115.20525 249.486821 \nL 122.34765 216.871337 \nL 129.49005 132.511703 \nL 136.63245 172.850447 \nL 143.77485 153.339701 \nL 150.91725 225.22164 \nL 158.05965 193.795535 \nL 165.20205 229.281243 \nL 172.34445 180.005209 \nL 179.48685 172.089368 \nL 186.62925 219.807809 \nL 193.77165 205.145477 \nL 200.91405 184.394511 \nL 208.05645 177.406139 \nL 215.19885 173.502141 \nL 222.34125 128.45364 \nL 229.48365 189.962407 \nL 236.62605 190.002464 \nL 243.76845 189.563379 \nL 250.91085 202.917702 \nL 258.05325 181.357897 \nL 265.19565 196.28676 \nL 272.33805 190.054846 \nL 279.48045 169.766073 \nL 286.62285 180.408859 \nL 293.76525 149.797755 \nL 300.90765 173.630014 \nL 308.05005 118.379353 \nL 315.19245 108.523838 \nL 322.33485 138.34459 \nL 329.47725 117.105239 \nL 336.61965 93.091184 \nL 343.76205 93.867669 \nL 350.90445 120.237373 \nL 358.04685 90.059191 \nL 365.18925 121.657849 \nL 372.33165 34.414125 \nL 379.47405 78.85253 \nL 386.61645 107.610235 \nL 393.75885 77.966658 \nL 400.90125 120.20656 \n\" clip-path=\"url(#pcefc228c25)\" style=\"fill: none; stroke: #ff0000; stroke-width: 2; stroke-linecap: square\"/>\n   </g>\n   <g id=\"line2d_30\">\n    <path d=\"M 50.92365 270.91105 \nL 58.06605 268.803445 \nL 65.20845 263.172383 \nL 72.35085 270.679953 \nL 79.49325 272.430127 \nL 86.63565 268.416743 \nL 93.77805 267.054812 \nL 100.92045 267.842082 \nL 108.06285 236.810382 \nL 115.20525 259.457884 \nL 122.34765 266.848365 \nL 129.49005 265.960953 \nL 136.63245 263.984304 \nL 143.77485 263.04605 \nL 150.91725 225.352595 \nL 158.05965 258.61207 \nL 165.20205 258.3517 \nL 172.34445 249.371272 \nL 179.48685 212.723917 \nL 186.62925 252.551167 \nL 193.77165 249.431358 \nL 200.91405 253.070364 \nL 208.05645 255.282733 \nL 215.19885 240.799116 \nL 222.34125 248.322092 \nL 229.48365 246.001879 \nL 236.62605 247.442383 \nL 243.76845 239.133677 \nL 250.91085 246.192919 \nL 258.05325 235.85056 \nL 265.19565 247.396164 \nL 272.33805 246.045017 \nL 279.48045 233.365497 \nL 286.62285 236.013868 \nL 293.76525 241.68961 \nL 300.90765 220.533453 \nL 308.05005 238.867145 \nL 315.19245 231.017552 \nL 322.33485 231.22708 \nL 329.47725 184.628689 \nL 336.61965 235.967649 \nL 343.76205 228.53403 \nL 350.90445 224.212517 \nL 358.04685 185.913588 \nL 365.18925 208.548765 \nL 372.33165 219.447298 \nL 379.47405 213.491159 \nL 386.61645 198.106264 \nL 393.75885 224.613085 \nL 400.90125 204.732584 \n\" clip-path=\"url(#pcefc228c25)\" style=\"fill: none; stroke: #0000ff; stroke-width: 2; stroke-linecap: square\"/>\n   </g>\n   <g id=\"line2d_31\">\n    <path d=\"M 50.92365 276.334125 \nL 58.06605 275.264916 \nL 65.20845 275.551477 \nL 72.35085 275.22486 \nL 79.49325 274.885917 \nL 86.63565 273.50858 \nL 93.77805 273.886038 \nL 100.92045 273.188125 \nL 108.06285 270.377986 \nL 115.20525 269.145469 \nL 122.34765 271.023517 \nL 129.49005 271.836978 \nL 136.63245 267.989984 \nL 143.77485 269.407379 \nL 150.91725 270.661465 \nL 158.05965 267.261258 \nL 165.20205 269.365781 \nL 172.34445 269.638476 \nL 179.48685 264.716111 \nL 186.62925 253.866879 \nL 193.77165 262.650104 \nL 200.91405 266.942345 \nL 208.05645 266.993186 \nL 215.19885 265.318503 \nL 222.34125 265.483352 \nL 229.48365 259.40088 \nL 236.62605 237.999761 \nL 243.76845 262.118581 \nL 250.91085 261.32977 \nL 258.05325 256.690883 \nL 265.19565 251.471173 \nL 272.33805 254.404564 \nL 279.48045 261.214221 \nL 286.62285 261.775017 \nL 293.76525 250.654631 \nL 300.90765 239.001182 \nL 308.05005 241.652634 \nL 315.19245 231.431986 \nL 322.33485 221.984742 \nL 329.47725 237.529864 \nL 336.61965 230.088542 \nL 343.76205 248.251223 \nL 350.90445 238.363354 \nL 358.04685 244.140778 \nL 365.18925 257.549024 \nL 372.33165 238.92569 \nL 379.47405 235.012448 \nL 386.61645 248.513132 \nL 393.75885 234.765945 \nL 400.90125 253.1551 \n\" clip-path=\"url(#pcefc228c25)\" style=\"fill: none; stroke: #008000; stroke-width: 2; stroke-linecap: square\"/>\n   </g>\n   <g id=\"patch_3\">\n    <path d=\"M 43.78125 288.430125 \nL 43.78125 22.318125 \n\" style=\"fill: none; stroke: #000000; stroke-width: 0.8; stroke-linejoin: miter; stroke-linecap: square\"/>\n   </g>\n   <g id=\"patch_4\">\n    <path d=\"M 400.90125 288.430125 \nL 400.90125 22.318125 \n\" style=\"fill: none; stroke: #000000; stroke-width: 0.8; stroke-linejoin: miter; stroke-linecap: square\"/>\n   </g>\n   <g id=\"patch_5\">\n    <path d=\"M 43.78125 288.430125 \nL 400.90125 288.430125 \n\" style=\"fill: none; stroke: #000000; stroke-width: 0.8; stroke-linejoin: miter; stroke-linecap: square\"/>\n   </g>\n   <g id=\"patch_6\">\n    <path d=\"M 43.78125 22.318125 \nL 400.90125 22.318125 \n\" style=\"fill: none; stroke: #000000; stroke-width: 0.8; stroke-linejoin: miter; stroke-linecap: square\"/>\n   </g>\n   <g id=\"text_17\">\n    <!-- Dot product -->\n    <g transform=\"translate(186.71625 16.318125) scale(0.12 -0.12)\">\n     <defs>\n      <path id=\"DejaVuSans-44\" d=\"M 1259 4147 \nL 1259 519 \nL 2022 519 \nQ 2988 519 3436 956 \nQ 3884 1394 3884 2338 \nQ 3884 3275 3436 3711 \nQ 2988 4147 2022 4147 \nL 1259 4147 \nz\nM 628 4666 \nL 1925 4666 \nQ 3281 4666 3915 4102 \nQ 4550 3538 4550 2338 \nQ 4550 1131 3912 565 \nQ 3275 0 1925 0 \nL 628 0 \nL 628 4666 \nz\n\" transform=\"scale(0.015625)\"/>\n      <path id=\"DejaVuSans-6f\" d=\"M 1959 3097 \nQ 1497 3097 1228 2736 \nQ 959 2375 959 1747 \nQ 959 1119 1226 758 \nQ 1494 397 1959 397 \nQ 2419 397 2687 759 \nQ 2956 1122 2956 1747 \nQ 2956 2369 2687 2733 \nQ 2419 3097 1959 3097 \nz\nM 1959 3584 \nQ 2709 3584 3137 3096 \nQ 3566 2609 3566 1747 \nQ 3566 888 3137 398 \nQ 2709 -91 1959 -91 \nQ 1206 -91 779 398 \nQ 353 888 353 1747 \nQ 353 2609 779 3096 \nQ 1206 3584 1959 3584 \nz\n\" transform=\"scale(0.015625)\"/>\n      <path id=\"DejaVuSans-70\" d=\"M 1159 525 \nL 1159 -1331 \nL 581 -1331 \nL 581 3500 \nL 1159 3500 \nL 1159 2969 \nQ 1341 3281 1617 3432 \nQ 1894 3584 2278 3584 \nQ 2916 3584 3314 3078 \nQ 3713 2572 3713 1747 \nQ 3713 922 3314 415 \nQ 2916 -91 2278 -91 \nQ 1894 -91 1617 61 \nQ 1341 213 1159 525 \nz\nM 3116 1747 \nQ 3116 2381 2855 2742 \nQ 2594 3103 2138 3103 \nQ 1681 3103 1420 2742 \nQ 1159 2381 1159 1747 \nQ 1159 1113 1420 752 \nQ 1681 391 2138 391 \nQ 2594 391 2855 752 \nQ 3116 1113 3116 1747 \nz\n\" transform=\"scale(0.015625)\"/>\n      <path id=\"DejaVuSans-72\" d=\"M 2631 2963 \nQ 2534 3019 2420 3045 \nQ 2306 3072 2169 3072 \nQ 1681 3072 1420 2755 \nQ 1159 2438 1159 1844 \nL 1159 0 \nL 581 0 \nL 581 3500 \nL 1159 3500 \nL 1159 2956 \nQ 1341 3275 1631 3429 \nQ 1922 3584 2338 3584 \nQ 2397 3584 2469 3576 \nQ 2541 3569 2628 3553 \nL 2631 2963 \nz\n\" transform=\"scale(0.015625)\"/>\n      <path id=\"DejaVuSans-64\" d=\"M 2906 2969 \nL 2906 4863 \nL 3481 4863 \nL 3481 0 \nL 2906 0 \nL 2906 525 \nQ 2725 213 2448 61 \nQ 2172 -91 1784 -91 \nQ 1150 -91 751 415 \nQ 353 922 353 1747 \nQ 353 2572 751 3078 \nQ 1150 3584 1784 3584 \nQ 2172 3584 2448 3432 \nQ 2725 3281 2906 2969 \nz\nM 947 1747 \nQ 947 1113 1208 752 \nQ 1469 391 1925 391 \nQ 2381 391 2643 752 \nQ 2906 1113 2906 1747 \nQ 2906 2381 2643 2742 \nQ 2381 3103 1925 3103 \nQ 1469 3103 1208 2742 \nQ 947 2381 947 1747 \nz\n\" transform=\"scale(0.015625)\"/>\n      <path id=\"DejaVuSans-75\" d=\"M 544 1381 \nL 544 3500 \nL 1119 3500 \nL 1119 1403 \nQ 1119 906 1312 657 \nQ 1506 409 1894 409 \nQ 2359 409 2629 706 \nQ 2900 1003 2900 1516 \nL 2900 3500 \nL 3475 3500 \nL 3475 0 \nL 2900 0 \nL 2900 538 \nQ 2691 219 2414 64 \nQ 2138 -91 1772 -91 \nQ 1169 -91 856 284 \nQ 544 659 544 1381 \nz\nM 1991 3584 \nL 1991 3584 \nz\n\" transform=\"scale(0.015625)\"/>\n      <path id=\"DejaVuSans-63\" d=\"M 3122 3366 \nL 3122 2828 \nQ 2878 2963 2633 3030 \nQ 2388 3097 2138 3097 \nQ 1578 3097 1268 2742 \nQ 959 2388 959 1747 \nQ 959 1106 1268 751 \nQ 1578 397 2138 397 \nQ 2388 397 2633 464 \nQ 2878 531 3122 666 \nL 3122 134 \nQ 2881 22 2623 -34 \nQ 2366 -91 2075 -91 \nQ 1284 -91 818 406 \nQ 353 903 353 1747 \nQ 353 2603 823 3093 \nQ 1294 3584 2113 3584 \nQ 2378 3584 2631 3529 \nQ 2884 3475 3122 3366 \nz\n\" transform=\"scale(0.015625)\"/>\n     </defs>\n     <use xlink:href=\"#DejaVuSans-44\"/>\n     <use xlink:href=\"#DejaVuSans-6f\" x=\"77.001953\"/>\n     <use xlink:href=\"#DejaVuSans-74\" x=\"138.183594\"/>\n     <use xlink:href=\"#DejaVuSans-20\" x=\"177.392578\"/>\n     <use xlink:href=\"#DejaVuSans-70\" x=\"209.179688\"/>\n     <use xlink:href=\"#DejaVuSans-72\" x=\"272.65625\"/>\n     <use xlink:href=\"#DejaVuSans-6f\" x=\"311.519531\"/>\n     <use xlink:href=\"#DejaVuSans-64\" x=\"372.701172\"/>\n     <use xlink:href=\"#DejaVuSans-75\" x=\"436.177734\"/>\n     <use xlink:href=\"#DejaVuSans-63\" x=\"499.556641\"/>\n     <use xlink:href=\"#DejaVuSans-74\" x=\"554.537109\"/>\n    </g>\n   </g>\n   <g id=\"legend_1\">\n    <g id=\"patch_7\">\n     <path d=\"M 50.78125 74.3525 \nL 104.145313 74.3525 \nQ 106.145313 74.3525 106.145313 72.3525 \nL 106.145313 29.318125 \nQ 106.145313 27.318125 104.145313 27.318125 \nL 50.78125 27.318125 \nQ 48.78125 27.318125 48.78125 29.318125 \nL 48.78125 72.3525 \nQ 48.78125 74.3525 50.78125 74.3525 \nz\n\" style=\"fill: #ffffff; opacity: 0.8; stroke: #cccccc; stroke-linejoin: miter\"/>\n    </g>\n    <g id=\"line2d_32\">\n     <path d=\"M 52.78125 35.416562 \nL 62.78125 35.416562 \nL 72.78125 35.416562 \n\" style=\"fill: none; stroke: #ff0000; stroke-width: 2; stroke-linecap: square\"/>\n    </g>\n    <g id=\"text_18\">\n     <!-- loop -->\n     <g transform=\"translate(80.78125 38.916562) scale(0.1 -0.1)\">\n      <defs>\n       <path id=\"DejaVuSans-6c\" d=\"M 603 4863 \nL 1178 4863 \nL 1178 0 \nL 603 0 \nL 603 4863 \nz\n\" transform=\"scale(0.015625)\"/>\n      </defs>\n      <use xlink:href=\"#DejaVuSans-6c\"/>\n      <use xlink:href=\"#DejaVuSans-6f\" x=\"27.783203\"/>\n      <use xlink:href=\"#DejaVuSans-6f\" x=\"88.964844\"/>\n      <use xlink:href=\"#DejaVuSans-70\" x=\"150.146484\"/>\n     </g>\n    </g>\n    <g id=\"line2d_33\">\n     <path d=\"M 52.78125 50.094688 \nL 62.78125 50.094688 \nL 72.78125 50.094688 \n\" style=\"fill: none; stroke: #0000ff; stroke-width: 2; stroke-linecap: square\"/>\n    </g>\n    <g id=\"text_19\">\n     <!-- sum -->\n     <g transform=\"translate(80.78125 53.594688) scale(0.1 -0.1)\">\n      <use xlink:href=\"#DejaVuSans-73\"/>\n      <use xlink:href=\"#DejaVuSans-75\" x=\"52.099609\"/>\n      <use xlink:href=\"#DejaVuSans-6d\" x=\"115.478516\"/>\n     </g>\n    </g>\n    <g id=\"line2d_34\">\n     <path d=\"M 52.78125 64.772812 \nL 62.78125 64.772812 \nL 72.78125 64.772812 \n\" style=\"fill: none; stroke: #008000; stroke-width: 2; stroke-linecap: square\"/>\n    </g>\n    <g id=\"text_20\">\n     <!-- np -->\n     <g transform=\"translate(80.78125 68.272812) scale(0.1 -0.1)\">\n      <defs>\n       <path id=\"DejaVuSans-6e\" d=\"M 3513 2113 \nL 3513 0 \nL 2938 0 \nL 2938 2094 \nQ 2938 2591 2744 2837 \nQ 2550 3084 2163 3084 \nQ 1697 3084 1428 2787 \nQ 1159 2491 1159 1978 \nL 1159 0 \nL 581 0 \nL 581 3500 \nL 1159 3500 \nL 1159 2956 \nQ 1366 3272 1645 3428 \nQ 1925 3584 2291 3584 \nQ 2894 3584 3203 3211 \nQ 3513 2838 3513 2113 \nz\n\" transform=\"scale(0.015625)\"/>\n      </defs>\n      <use xlink:href=\"#DejaVuSans-6e\"/>\n      <use xlink:href=\"#DejaVuSans-70\" x=\"63.378906\"/>\n     </g>\n    </g>\n   </g>\n  </g>\n </g>\n <defs>\n  <clipPath id=\"pcefc228c25\">\n   <rect x=\"43.78125\" y=\"22.318125\" width=\"357.12\" height=\"266.112\"/>\n  </clipPath>\n </defs>\n</svg>\n",
            "text/plain": "<Figure size 640x480 with 1 Axes>"
          },
          "metadata": {}
        }
      ],
      "execution_count": 23,
      "metadata": {},
      "id": "44323665"
    }
  ],
  "metadata": {
    "kernelspec": {
      "name": "python",
      "language": "python",
      "display_name": "Pyolite (preview)"
    },
    "language_info": {
      "codemirror_mode": {
        "name": "python",
        "version": 3
      },
      "file_extension": ".py",
      "mimetype": "text/x-python",
      "name": "python",
      "nbconvert_exporter": "python",
      "pygments_lexer": "ipython3",
      "version": "3.8"
    },
    "kernel_info": {
      "name": "python"
    },
    "nteract": {
      "version": "nteract-front-end@1.0.0"
    }
  },
  "nbformat": 4,
  "nbformat_minor": 5
}